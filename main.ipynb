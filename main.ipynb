{
 "cells": [
  {
   "cell_type": "code",
   "execution_count": 340,
   "id": "initial_id",
   "metadata": {
    "collapsed": true,
    "ExecuteTime": {
     "end_time": "2023-09-01T17:18:34.485299300Z",
     "start_time": "2023-09-01T17:18:34.432439700Z"
    }
   },
   "outputs": [],
   "source": [
    "import nltk\n",
    "import numpy as np\n",
    "import pandas as pd\n",
    "import matplotlib.pyplot as plt\n",
    "import string\n",
    "\n",
    "from nltk import WordNetLemmatizer, word_tokenize, pos_tag, SnowballStemmer\n",
    "from nltk.corpus import stopwords, wordnet\n",
    "\n",
    "from sklearn.model_selection import train_test_split\n",
    "from sklearn.metrics import confusion_matrix, f1_score"
   ]
  },
  {
   "cell_type": "markdown",
   "source": [
    "# Reading The Poems And Store Each Line As Single Input"
   ],
   "metadata": {
    "collapsed": false
   },
   "id": "763438329f11dd21"
  },
  {
   "cell_type": "code",
   "execution_count": 302,
   "outputs": [
    {
     "data": {
      "text/plain": "                                                  text\n0             LO! Death hath rear'd himself a throne\\n\n1                      In a strange city, all alone,\\n\n2                       Far down within the dim west\\n\n3    Where the good, and the bad, and the worst, an...\n4                   Have gone to their eternal rest.\\n\n..                                                 ...\n792                          To a discordant melody;\\n\n793               While, like a rapid ghastly river,\\n\n794                           Through the pale door,\\n\n795               A hideous throng rush out forever,\\n\n796                     And laugh --but smile no more.\n\n[797 rows x 1 columns]",
      "text/html": "<div>\n<style scoped>\n    .dataframe tbody tr th:only-of-type {\n        vertical-align: middle;\n    }\n\n    .dataframe tbody tr th {\n        vertical-align: top;\n    }\n\n    .dataframe thead th {\n        text-align: right;\n    }\n</style>\n<table border=\"1\" class=\"dataframe\">\n  <thead>\n    <tr style=\"text-align: right;\">\n      <th></th>\n      <th>text</th>\n    </tr>\n  </thead>\n  <tbody>\n    <tr>\n      <th>0</th>\n      <td>LO! Death hath rear'd himself a throne\\n</td>\n    </tr>\n    <tr>\n      <th>1</th>\n      <td>In a strange city, all alone,\\n</td>\n    </tr>\n    <tr>\n      <th>2</th>\n      <td>Far down within the dim west\\n</td>\n    </tr>\n    <tr>\n      <th>3</th>\n      <td>Where the good, and the bad, and the worst, an...</td>\n    </tr>\n    <tr>\n      <th>4</th>\n      <td>Have gone to their eternal rest.\\n</td>\n    </tr>\n    <tr>\n      <th>...</th>\n      <td>...</td>\n    </tr>\n    <tr>\n      <th>792</th>\n      <td>To a discordant melody;\\n</td>\n    </tr>\n    <tr>\n      <th>793</th>\n      <td>While, like a rapid ghastly river,\\n</td>\n    </tr>\n    <tr>\n      <th>794</th>\n      <td>Through the pale door,\\n</td>\n    </tr>\n    <tr>\n      <th>795</th>\n      <td>A hideous throng rush out forever,\\n</td>\n    </tr>\n    <tr>\n      <th>796</th>\n      <td>And laugh --but smile no more.</td>\n    </tr>\n  </tbody>\n</table>\n<p>797 rows × 1 columns</p>\n</div>"
     },
     "execution_count": 302,
     "metadata": {},
     "output_type": "execute_result"
    }
   ],
   "source": [
    "# Read the text file and store its content in a list\n",
    "with open('edgar_allan_poe.txt', 'r', encoding='utf-8') as file:\n",
    "    lines = file.readlines()\n",
    "\n",
    "# Create a dataframe with one column 'Text' and populate it with the lines from the text file\n",
    "edgar_allan_poe= pd.DataFrame({'text': lines})\n",
    "\n",
    "edgar_allan_poe"
   ],
   "metadata": {
    "collapsed": false,
    "ExecuteTime": {
     "end_time": "2023-09-01T17:16:45.726852100Z",
     "start_time": "2023-09-01T17:16:45.138156900Z"
    }
   },
   "id": "e58c70eeb7ba5ca8"
  },
  {
   "cell_type": "code",
   "execution_count": 303,
   "outputs": [
    {
     "data": {
      "text/plain": "                                                  text\n0               Two roads diverged in a yellow wood,\\n\n1                  And sorry I could not travel both\\n\n2                  And be one traveler, long I stood\\n\n3              And looked down one as far as I could\\n\n4              To where it bent in the undergrowth; \\n\n...                                                ...\n1576                                                \\n\n1577          A feather-hammer gives a double knock.\\n\n1578           This Eden day is done at two o'clock.\\n\n1579      An hour of winter day might seem too short\\n\n1580  To make it worth life's while to wake and sport.\n\n[1581 rows x 1 columns]",
      "text/html": "<div>\n<style scoped>\n    .dataframe tbody tr th:only-of-type {\n        vertical-align: middle;\n    }\n\n    .dataframe tbody tr th {\n        vertical-align: top;\n    }\n\n    .dataframe thead th {\n        text-align: right;\n    }\n</style>\n<table border=\"1\" class=\"dataframe\">\n  <thead>\n    <tr style=\"text-align: right;\">\n      <th></th>\n      <th>text</th>\n    </tr>\n  </thead>\n  <tbody>\n    <tr>\n      <th>0</th>\n      <td>Two roads diverged in a yellow wood,\\n</td>\n    </tr>\n    <tr>\n      <th>1</th>\n      <td>And sorry I could not travel both\\n</td>\n    </tr>\n    <tr>\n      <th>2</th>\n      <td>And be one traveler, long I stood\\n</td>\n    </tr>\n    <tr>\n      <th>3</th>\n      <td>And looked down one as far as I could\\n</td>\n    </tr>\n    <tr>\n      <th>4</th>\n      <td>To where it bent in the undergrowth; \\n</td>\n    </tr>\n    <tr>\n      <th>...</th>\n      <td>...</td>\n    </tr>\n    <tr>\n      <th>1576</th>\n      <td>\\n</td>\n    </tr>\n    <tr>\n      <th>1577</th>\n      <td>A feather-hammer gives a double knock.\\n</td>\n    </tr>\n    <tr>\n      <th>1578</th>\n      <td>This Eden day is done at two o'clock.\\n</td>\n    </tr>\n    <tr>\n      <th>1579</th>\n      <td>An hour of winter day might seem too short\\n</td>\n    </tr>\n    <tr>\n      <th>1580</th>\n      <td>To make it worth life's while to wake and sport.</td>\n    </tr>\n  </tbody>\n</table>\n<p>1581 rows × 1 columns</p>\n</div>"
     },
     "execution_count": 303,
     "metadata": {},
     "output_type": "execute_result"
    }
   ],
   "source": [
    "# Read the text file and store its content in a list\n",
    "with open('robert_frost_poe.txt', 'r', encoding='utf-8') as file:\n",
    "    lines = file.readlines()\n",
    "\n",
    "# Create a dataframe with one column 'Text' and populate it with the lines from the text file\n",
    "robert_frost_poe = pd.DataFrame({'text': lines})\n",
    "\n",
    "robert_frost_poe"
   ],
   "metadata": {
    "collapsed": false,
    "ExecuteTime": {
     "end_time": "2023-09-01T17:16:45.839060100Z",
     "start_time": "2023-09-01T17:16:45.162766900Z"
    }
   },
   "id": "a2c84d9e454bbdf1"
  },
  {
   "cell_type": "markdown",
   "source": [
    "# Reading The Poems And Store Each Section As Single Input"
   ],
   "metadata": {
    "collapsed": false
   },
   "id": "c7100fe1765f0919"
  },
  {
   "cell_type": "code",
   "execution_count": 304,
   "outputs": [],
   "source": [
    "# def poem_reader(input_file_path):\n",
    "#     \n",
    "#     try:\n",
    "#         with open(input_file_path, 'r') as input_file:\n",
    "#             content = input_file.read()  # Read the content of the input text file\n",
    "#         \n",
    "#         sections = content.split('\\n\\n')  # Split content into sections based on empty lines\n",
    "#         data = {'text': sections}        \n",
    "#         print('Done')\n",
    "#         \n",
    "#         return pd.DataFrame(data)\n",
    "#         \n",
    "#     except FileNotFoundError:\n",
    "#         print(\"Input file not found.\")\n",
    "#     except Exception as e:\n",
    "#         print(\"An error occurred:\", e)"
   ],
   "metadata": {
    "collapsed": false,
    "ExecuteTime": {
     "end_time": "2023-09-01T17:16:45.874966600Z",
     "start_time": "2023-09-01T17:16:45.182589200Z"
    }
   },
   "id": "830f6a7ac68f1773"
  },
  {
   "cell_type": "code",
   "execution_count": 305,
   "outputs": [],
   "source": [
    "# edgar_allan_poe = poem_reader('edgar_allan_poe.txt')\n",
    "# robert_frost_poe = poem_reader('robert_frost_poe.txt')"
   ],
   "metadata": {
    "collapsed": false,
    "ExecuteTime": {
     "end_time": "2023-09-01T17:16:45.874966600Z",
     "start_time": "2023-09-01T17:16:45.191225100Z"
    }
   },
   "id": "a34d9d0f1c9e2da7"
  },
  {
   "cell_type": "code",
   "execution_count": 306,
   "outputs": [],
   "source": [
    "# edgar_allan_poe"
   ],
   "metadata": {
    "collapsed": false,
    "ExecuteTime": {
     "end_time": "2023-09-01T17:16:45.913859600Z",
     "start_time": "2023-09-01T17:16:45.200904800Z"
    }
   },
   "id": "7166e33d5c11e9bd"
  },
  {
   "cell_type": "code",
   "execution_count": 307,
   "outputs": [],
   "source": [
    "# robert_frost_poe"
   ],
   "metadata": {
    "collapsed": false,
    "ExecuteTime": {
     "end_time": "2023-09-01T17:16:45.913859600Z",
     "start_time": "2023-09-01T17:16:45.208912600Z"
    }
   },
   "id": "179648255fe60c9"
  },
  {
   "cell_type": "markdown",
   "source": [
    "# PreProcess The Data and Removing Stop Words And NonAlphabetic Chars Using Lemmatization and Pos Technic"
   ],
   "metadata": {
    "collapsed": false
   },
   "id": "175b26fd49021498"
  },
  {
   "cell_type": "code",
   "execution_count": 308,
   "outputs": [
    {
     "name": "stderr",
     "output_type": "stream",
     "text": [
      "[nltk_data] Downloading package punkt to\n",
      "[nltk_data]     C:\\Users\\Saeed\\AppData\\Roaming\\nltk_data...\n",
      "[nltk_data]   Package punkt is already up-to-date!\n",
      "[nltk_data] Downloading package stopwords to\n",
      "[nltk_data]     C:\\Users\\Saeed\\AppData\\Roaming\\nltk_data...\n",
      "[nltk_data]   Package stopwords is already up-to-date!\n",
      "[nltk_data] Downloading package wordnet to\n",
      "[nltk_data]     C:\\Users\\Saeed\\AppData\\Roaming\\nltk_data...\n",
      "[nltk_data]   Package wordnet is already up-to-date!\n",
      "[nltk_data] Downloading package averaged_perceptron_tagger to\n",
      "[nltk_data]     C:\\Users\\Saeed\\AppData\\Roaming\\nltk_data...\n",
      "[nltk_data]   Package averaged_perceptron_tagger is already up-to-\n",
      "[nltk_data]       date!\n"
     ]
    },
    {
     "data": {
      "text/plain": "True"
     },
     "execution_count": 308,
     "metadata": {},
     "output_type": "execute_result"
    }
   ],
   "source": [
    "nltk.download('punkt')  # Download NLTK data for tokenization if not already downloaded\n",
    "nltk.download('stopwords')  # Download NLTK data for stopwords if not already downloaded\n",
    "nltk.download('wordnet')  # Download NLTK data for WordNet if not already downloaded\n",
    "nltk.download('averaged_perceptron_tagger')  # Download NLTK data for POS tagger if not already downloaded"
   ],
   "metadata": {
    "collapsed": false,
    "ExecuteTime": {
     "end_time": "2023-09-01T17:16:46.464277700Z",
     "start_time": "2023-09-01T17:16:45.217885900Z"
    }
   },
   "id": "200d761bfefda26d"
  },
  {
   "cell_type": "code",
   "execution_count": 309,
   "outputs": [],
   "source": [
    "def text_preprocessor(data):\n",
    "    # Load English stopwords\n",
    "    stop_words = set(stopwords.words('english'))\n",
    "    \n",
    "    # Initialize the SnowballStemmer with English language\n",
    "    # stemmer = SnowballStemmer(\"english\")\n",
    "    \n",
    "    # Initialize the WordNetLemmatizer\n",
    "    lemmatizer = WordNetLemmatizer()\n",
    "    \n",
    "    # Mapping between Penn Treebank POS tags and WordNet POS tags\n",
    "    def penn_to_wordnet_pos(tag):\n",
    "        if tag.startswith('N'):\n",
    "            return wordnet.NOUN\n",
    "        elif tag.startswith('V'):\n",
    "            return wordnet.VERB\n",
    "        elif tag.startswith('J'):\n",
    "            return wordnet.ADJ\n",
    "        elif tag.startswith('R'):\n",
    "            return wordnet.ADV\n",
    "        else:\n",
    "            return wordnet.NOUN  # Default to noun\n",
    "    \n",
    "    # Tokenize and preprocess the text data\n",
    "    def preprocess_text(text):\n",
    "        tokens = word_tokenize(text)  # Tokenize the text\n",
    "        tokens = [token.lower() for token in tokens if token.isalpha()]  # Keep only alphabetic tokens\n",
    "        tokens = [token for token in tokens if token not in stop_words]  # Remove stopwords\n",
    "        \n",
    "        # stemmed_tokens = [stemmer.stem(token) for token in tokens]  # Apply Snowball stemmer\n",
    "        # return \" \".join(stemmed_tokens)  # Join the tokens back into a string\n",
    "        \n",
    "        pos_tags = pos_tag(tokens)  # Get part of speech tags\n",
    "        lemmatized_tokens = [lemmatizer.lemmatize(token) for token, pos in pos_tags]  # Apply lemmatization without POS\n",
    "        lemmatized_tokens = [lemmatizer.lemmatize(token, pos=penn_to_wordnet_pos(pos)) for token, pos in pos_tags]  # Apply lemmatization with POS\n",
    "        return \" \".join(lemmatized_tokens)  # Join the tokens back into a string\n",
    "    \n",
    "    return data.apply(preprocess_text)"
   ],
   "metadata": {
    "collapsed": false,
    "ExecuteTime": {
     "end_time": "2023-09-01T17:16:46.497192200Z",
     "start_time": "2023-09-01T17:16:46.391609500Z"
    }
   },
   "id": "5f09e426b1efd93c"
  },
  {
   "cell_type": "code",
   "execution_count": 310,
   "outputs": [],
   "source": [
    "edgar_allan_preprocessed = text_preprocessor(edgar_allan_poe['text'])\n",
    "robert_frost_preprocessed = text_preprocessor(robert_frost_poe['text'])\n",
    "\n",
    "edgar_allan_preprocessed = edgar_allan_preprocessed.to_frame()\n",
    "robert_frost_preprocessed = robert_frost_preprocessed.to_frame()"
   ],
   "metadata": {
    "collapsed": false,
    "ExecuteTime": {
     "end_time": "2023-09-01T17:16:49.547203600Z",
     "start_time": "2023-09-01T17:16:46.397468Z"
    }
   },
   "id": "1e841fb4efbe52"
  },
  {
   "cell_type": "code",
   "execution_count": 311,
   "outputs": [
    {
     "data": {
      "text/plain": "                            text\n0      lo death hath rear throne\n1             strange city alone\n2            far within dim west\n3              good bad bad best\n4                go eternal rest\n..                           ...\n792            discordant melody\n793     like rapid ghastly river\n794                    pale door\n795  hideous throng rush forever\n796                  laugh smile\n\n[797 rows x 1 columns]",
      "text/html": "<div>\n<style scoped>\n    .dataframe tbody tr th:only-of-type {\n        vertical-align: middle;\n    }\n\n    .dataframe tbody tr th {\n        vertical-align: top;\n    }\n\n    .dataframe thead th {\n        text-align: right;\n    }\n</style>\n<table border=\"1\" class=\"dataframe\">\n  <thead>\n    <tr style=\"text-align: right;\">\n      <th></th>\n      <th>text</th>\n    </tr>\n  </thead>\n  <tbody>\n    <tr>\n      <th>0</th>\n      <td>lo death hath rear throne</td>\n    </tr>\n    <tr>\n      <th>1</th>\n      <td>strange city alone</td>\n    </tr>\n    <tr>\n      <th>2</th>\n      <td>far within dim west</td>\n    </tr>\n    <tr>\n      <th>3</th>\n      <td>good bad bad best</td>\n    </tr>\n    <tr>\n      <th>4</th>\n      <td>go eternal rest</td>\n    </tr>\n    <tr>\n      <th>...</th>\n      <td>...</td>\n    </tr>\n    <tr>\n      <th>792</th>\n      <td>discordant melody</td>\n    </tr>\n    <tr>\n      <th>793</th>\n      <td>like rapid ghastly river</td>\n    </tr>\n    <tr>\n      <th>794</th>\n      <td>pale door</td>\n    </tr>\n    <tr>\n      <th>795</th>\n      <td>hideous throng rush forever</td>\n    </tr>\n    <tr>\n      <th>796</th>\n      <td>laugh smile</td>\n    </tr>\n  </tbody>\n</table>\n<p>797 rows × 1 columns</p>\n</div>"
     },
     "execution_count": 311,
     "metadata": {},
     "output_type": "execute_result"
    }
   ],
   "source": [
    "edgar_allan_preprocessed"
   ],
   "metadata": {
    "collapsed": false,
    "ExecuteTime": {
     "end_time": "2023-09-01T17:16:49.563162300Z",
     "start_time": "2023-09-01T17:16:49.550204300Z"
    }
   },
   "id": "8903ff195cb419f"
  },
  {
   "cell_type": "code",
   "execution_count": 312,
   "outputs": [
    {
     "data": {
      "text/plain": "                                  text\n0         two road diverge yellow wood\n1                   sorry could travel\n2              one traveler long stand\n3                   look one far could\n4                     bent undergrowth\n...                                ...\n1576                                  \n1577                 give double knock\n1578                   eden day do two\n1579  hour winter day might seem short\n1580        make worth life wake sport\n\n[1581 rows x 1 columns]",
      "text/html": "<div>\n<style scoped>\n    .dataframe tbody tr th:only-of-type {\n        vertical-align: middle;\n    }\n\n    .dataframe tbody tr th {\n        vertical-align: top;\n    }\n\n    .dataframe thead th {\n        text-align: right;\n    }\n</style>\n<table border=\"1\" class=\"dataframe\">\n  <thead>\n    <tr style=\"text-align: right;\">\n      <th></th>\n      <th>text</th>\n    </tr>\n  </thead>\n  <tbody>\n    <tr>\n      <th>0</th>\n      <td>two road diverge yellow wood</td>\n    </tr>\n    <tr>\n      <th>1</th>\n      <td>sorry could travel</td>\n    </tr>\n    <tr>\n      <th>2</th>\n      <td>one traveler long stand</td>\n    </tr>\n    <tr>\n      <th>3</th>\n      <td>look one far could</td>\n    </tr>\n    <tr>\n      <th>4</th>\n      <td>bent undergrowth</td>\n    </tr>\n    <tr>\n      <th>...</th>\n      <td>...</td>\n    </tr>\n    <tr>\n      <th>1576</th>\n      <td></td>\n    </tr>\n    <tr>\n      <th>1577</th>\n      <td>give double knock</td>\n    </tr>\n    <tr>\n      <th>1578</th>\n      <td>eden day do two</td>\n    </tr>\n    <tr>\n      <th>1579</th>\n      <td>hour winter day might seem short</td>\n    </tr>\n    <tr>\n      <th>1580</th>\n      <td>make worth life wake sport</td>\n    </tr>\n  </tbody>\n</table>\n<p>1581 rows × 1 columns</p>\n</div>"
     },
     "execution_count": 312,
     "metadata": {},
     "output_type": "execute_result"
    }
   ],
   "source": [
    "robert_frost_preprocessed"
   ],
   "metadata": {
    "collapsed": false,
    "ExecuteTime": {
     "end_time": "2023-09-01T17:16:49.604503700Z",
     "start_time": "2023-09-01T17:16:49.564158800Z"
    }
   },
   "id": "6b5dac5c55c5f9b0"
  },
  {
   "cell_type": "code",
   "execution_count": 313,
   "outputs": [
    {
     "data": {
      "text/plain": "                            text  label\n0      lo death hath rear throne      0\n1             strange city alone      0\n2            far within dim west      0\n3              good bad bad best      0\n4                go eternal rest      0\n..                           ...    ...\n792            discordant melody      0\n793     like rapid ghastly river      0\n794                    pale door      0\n795  hideous throng rush forever      0\n796                  laugh smile      0\n\n[797 rows x 2 columns]",
      "text/html": "<div>\n<style scoped>\n    .dataframe tbody tr th:only-of-type {\n        vertical-align: middle;\n    }\n\n    .dataframe tbody tr th {\n        vertical-align: top;\n    }\n\n    .dataframe thead th {\n        text-align: right;\n    }\n</style>\n<table border=\"1\" class=\"dataframe\">\n  <thead>\n    <tr style=\"text-align: right;\">\n      <th></th>\n      <th>text</th>\n      <th>label</th>\n    </tr>\n  </thead>\n  <tbody>\n    <tr>\n      <th>0</th>\n      <td>lo death hath rear throne</td>\n      <td>0</td>\n    </tr>\n    <tr>\n      <th>1</th>\n      <td>strange city alone</td>\n      <td>0</td>\n    </tr>\n    <tr>\n      <th>2</th>\n      <td>far within dim west</td>\n      <td>0</td>\n    </tr>\n    <tr>\n      <th>3</th>\n      <td>good bad bad best</td>\n      <td>0</td>\n    </tr>\n    <tr>\n      <th>4</th>\n      <td>go eternal rest</td>\n      <td>0</td>\n    </tr>\n    <tr>\n      <th>...</th>\n      <td>...</td>\n      <td>...</td>\n    </tr>\n    <tr>\n      <th>792</th>\n      <td>discordant melody</td>\n      <td>0</td>\n    </tr>\n    <tr>\n      <th>793</th>\n      <td>like rapid ghastly river</td>\n      <td>0</td>\n    </tr>\n    <tr>\n      <th>794</th>\n      <td>pale door</td>\n      <td>0</td>\n    </tr>\n    <tr>\n      <th>795</th>\n      <td>hideous throng rush forever</td>\n      <td>0</td>\n    </tr>\n    <tr>\n      <th>796</th>\n      <td>laugh smile</td>\n      <td>0</td>\n    </tr>\n  </tbody>\n</table>\n<p>797 rows × 2 columns</p>\n</div>"
     },
     "execution_count": 313,
     "metadata": {},
     "output_type": "execute_result"
    }
   ],
   "source": [
    "edgar_allan_preprocessed['label'] = 0\n",
    "robert_frost_preprocessed['label'] = 1\n",
    "\n",
    "edgar_allan_preprocessed"
   ],
   "metadata": {
    "collapsed": false,
    "ExecuteTime": {
     "end_time": "2023-09-01T17:16:49.639237100Z",
     "start_time": "2023-09-01T17:16:49.581467800Z"
    }
   },
   "id": "2094cb8a3cd5ffcf"
  },
  {
   "cell_type": "markdown",
   "source": [
    "# removing Empty Cells"
   ],
   "metadata": {
    "collapsed": false
   },
   "id": "af5efbe31b0e8851"
  },
  {
   "cell_type": "code",
   "execution_count": 314,
   "outputs": [
    {
     "data": {
      "text/plain": "                            text  label\n0      lo death hath rear throne      0\n1             strange city alone      0\n2            far within dim west      0\n3              good bad bad best      0\n4                go eternal rest      0\n..                           ...    ...\n709            discordant melody      0\n710     like rapid ghastly river      0\n711                    pale door      0\n712  hideous throng rush forever      0\n713                  laugh smile      0\n\n[714 rows x 2 columns]",
      "text/html": "<div>\n<style scoped>\n    .dataframe tbody tr th:only-of-type {\n        vertical-align: middle;\n    }\n\n    .dataframe tbody tr th {\n        vertical-align: top;\n    }\n\n    .dataframe thead th {\n        text-align: right;\n    }\n</style>\n<table border=\"1\" class=\"dataframe\">\n  <thead>\n    <tr style=\"text-align: right;\">\n      <th></th>\n      <th>text</th>\n      <th>label</th>\n    </tr>\n  </thead>\n  <tbody>\n    <tr>\n      <th>0</th>\n      <td>lo death hath rear throne</td>\n      <td>0</td>\n    </tr>\n    <tr>\n      <th>1</th>\n      <td>strange city alone</td>\n      <td>0</td>\n    </tr>\n    <tr>\n      <th>2</th>\n      <td>far within dim west</td>\n      <td>0</td>\n    </tr>\n    <tr>\n      <th>3</th>\n      <td>good bad bad best</td>\n      <td>0</td>\n    </tr>\n    <tr>\n      <th>4</th>\n      <td>go eternal rest</td>\n      <td>0</td>\n    </tr>\n    <tr>\n      <th>...</th>\n      <td>...</td>\n      <td>...</td>\n    </tr>\n    <tr>\n      <th>709</th>\n      <td>discordant melody</td>\n      <td>0</td>\n    </tr>\n    <tr>\n      <th>710</th>\n      <td>like rapid ghastly river</td>\n      <td>0</td>\n    </tr>\n    <tr>\n      <th>711</th>\n      <td>pale door</td>\n      <td>0</td>\n    </tr>\n    <tr>\n      <th>712</th>\n      <td>hideous throng rush forever</td>\n      <td>0</td>\n    </tr>\n    <tr>\n      <th>713</th>\n      <td>laugh smile</td>\n      <td>0</td>\n    </tr>\n  </tbody>\n</table>\n<p>714 rows × 2 columns</p>\n</div>"
     },
     "execution_count": 314,
     "metadata": {},
     "output_type": "execute_result"
    }
   ],
   "source": [
    "# Remove rows with empty cells in the 'Text' column\n",
    "edgar_allan_preprocessed['text'].replace('', pd.NA, inplace=True)\n",
    "edgar_allan_preprocessed.dropna(subset=['text'], inplace=True)\n",
    "\n",
    "# Reset the index after dropping rows\n",
    "edgar_allan_preprocessed.reset_index(drop=True, inplace=True)\n",
    "\n",
    "edgar_allan_preprocessed"
   ],
   "metadata": {
    "collapsed": false,
    "ExecuteTime": {
     "end_time": "2023-09-01T17:16:49.694340600Z",
     "start_time": "2023-09-01T17:16:49.597523400Z"
    }
   },
   "id": "d595a1ade98062dd"
  },
  {
   "cell_type": "code",
   "execution_count": 315,
   "outputs": [
    {
     "data": {
      "text/plain": "                                  text  label\n0         two road diverge yellow wood      1\n1                   sorry could travel      1\n2              one traveler long stand      1\n3                   look one far could      1\n4                     bent undergrowth      1\n...                                ...    ...\n1414                say bud leaf bloom      1\n1415                 give double knock      1\n1416                   eden day do two      1\n1417  hour winter day might seem short      1\n1418        make worth life wake sport      1\n\n[1419 rows x 2 columns]",
      "text/html": "<div>\n<style scoped>\n    .dataframe tbody tr th:only-of-type {\n        vertical-align: middle;\n    }\n\n    .dataframe tbody tr th {\n        vertical-align: top;\n    }\n\n    .dataframe thead th {\n        text-align: right;\n    }\n</style>\n<table border=\"1\" class=\"dataframe\">\n  <thead>\n    <tr style=\"text-align: right;\">\n      <th></th>\n      <th>text</th>\n      <th>label</th>\n    </tr>\n  </thead>\n  <tbody>\n    <tr>\n      <th>0</th>\n      <td>two road diverge yellow wood</td>\n      <td>1</td>\n    </tr>\n    <tr>\n      <th>1</th>\n      <td>sorry could travel</td>\n      <td>1</td>\n    </tr>\n    <tr>\n      <th>2</th>\n      <td>one traveler long stand</td>\n      <td>1</td>\n    </tr>\n    <tr>\n      <th>3</th>\n      <td>look one far could</td>\n      <td>1</td>\n    </tr>\n    <tr>\n      <th>4</th>\n      <td>bent undergrowth</td>\n      <td>1</td>\n    </tr>\n    <tr>\n      <th>...</th>\n      <td>...</td>\n      <td>...</td>\n    </tr>\n    <tr>\n      <th>1414</th>\n      <td>say bud leaf bloom</td>\n      <td>1</td>\n    </tr>\n    <tr>\n      <th>1415</th>\n      <td>give double knock</td>\n      <td>1</td>\n    </tr>\n    <tr>\n      <th>1416</th>\n      <td>eden day do two</td>\n      <td>1</td>\n    </tr>\n    <tr>\n      <th>1417</th>\n      <td>hour winter day might seem short</td>\n      <td>1</td>\n    </tr>\n    <tr>\n      <th>1418</th>\n      <td>make worth life wake sport</td>\n      <td>1</td>\n    </tr>\n  </tbody>\n</table>\n<p>1419 rows × 2 columns</p>\n</div>"
     },
     "execution_count": 315,
     "metadata": {},
     "output_type": "execute_result"
    }
   ],
   "source": [
    "# Remove rows with empty cells in the 'Text' column\n",
    "robert_frost_preprocessed['text'].replace('', pd.NA, inplace=True)\n",
    "robert_frost_preprocessed.dropna(subset=['text'], inplace=True)\n",
    "\n",
    "# Reset the index after dropping rows\n",
    "robert_frost_preprocessed.reset_index(drop=True, inplace=True)\n",
    "\n",
    "robert_frost_preprocessed"
   ],
   "metadata": {
    "collapsed": false,
    "ExecuteTime": {
     "end_time": "2023-09-01T17:16:49.792017300Z",
     "start_time": "2023-09-01T17:16:49.617490800Z"
    }
   },
   "id": "f436528c7c2a9be1"
  },
  {
   "cell_type": "code",
   "execution_count": 316,
   "outputs": [
    {
     "data": {
      "text/plain": "                                  text  label\n0            lo death hath rear throne      0\n1                   strange city alone      0\n2                  far within dim west      0\n3                    good bad bad best      0\n4                      go eternal rest      0\n...                                ...    ...\n2128                say bud leaf bloom      1\n2129                 give double knock      1\n2130                   eden day do two      1\n2131  hour winter day might seem short      1\n2132        make worth life wake sport      1\n\n[2133 rows x 2 columns]",
      "text/html": "<div>\n<style scoped>\n    .dataframe tbody tr th:only-of-type {\n        vertical-align: middle;\n    }\n\n    .dataframe tbody tr th {\n        vertical-align: top;\n    }\n\n    .dataframe thead th {\n        text-align: right;\n    }\n</style>\n<table border=\"1\" class=\"dataframe\">\n  <thead>\n    <tr style=\"text-align: right;\">\n      <th></th>\n      <th>text</th>\n      <th>label</th>\n    </tr>\n  </thead>\n  <tbody>\n    <tr>\n      <th>0</th>\n      <td>lo death hath rear throne</td>\n      <td>0</td>\n    </tr>\n    <tr>\n      <th>1</th>\n      <td>strange city alone</td>\n      <td>0</td>\n    </tr>\n    <tr>\n      <th>2</th>\n      <td>far within dim west</td>\n      <td>0</td>\n    </tr>\n    <tr>\n      <th>3</th>\n      <td>good bad bad best</td>\n      <td>0</td>\n    </tr>\n    <tr>\n      <th>4</th>\n      <td>go eternal rest</td>\n      <td>0</td>\n    </tr>\n    <tr>\n      <th>...</th>\n      <td>...</td>\n      <td>...</td>\n    </tr>\n    <tr>\n      <th>2128</th>\n      <td>say bud leaf bloom</td>\n      <td>1</td>\n    </tr>\n    <tr>\n      <th>2129</th>\n      <td>give double knock</td>\n      <td>1</td>\n    </tr>\n    <tr>\n      <th>2130</th>\n      <td>eden day do two</td>\n      <td>1</td>\n    </tr>\n    <tr>\n      <th>2131</th>\n      <td>hour winter day might seem short</td>\n      <td>1</td>\n    </tr>\n    <tr>\n      <th>2132</th>\n      <td>make worth life wake sport</td>\n      <td>1</td>\n    </tr>\n  </tbody>\n</table>\n<p>2133 rows × 2 columns</p>\n</div>"
     },
     "execution_count": 316,
     "metadata": {},
     "output_type": "execute_result"
    }
   ],
   "source": [
    "all_poems_preprocessed = pd.concat([edgar_allan_preprocessed, robert_frost_preprocessed], ignore_index=True)\n",
    "\n",
    "all_poems_preprocessed"
   ],
   "metadata": {
    "collapsed": false,
    "ExecuteTime": {
     "end_time": "2023-09-01T17:16:49.796009800Z",
     "start_time": "2023-09-01T17:16:49.630922Z"
    }
   },
   "id": "90b0b86cc1312bdc"
  },
  {
   "cell_type": "markdown",
   "source": [
    "# Splitting Data To Train And Test"
   ],
   "metadata": {
    "collapsed": false
   },
   "id": "804f03c4c024ad02"
  },
  {
   "cell_type": "code",
   "execution_count": 317,
   "outputs": [],
   "source": [
    "x = all_poems_preprocessed.drop(columns=['label'])\n",
    "y = all_poems_preprocessed['label']\n",
    "\n",
    "x_train, x_test, y_train, y_test = train_test_split(x, y, test_size=0.3, random_state=42)\n",
    "\n",
    "x_train = x_train['text']\n",
    "x_test = x_test['text']"
   ],
   "metadata": {
    "collapsed": false,
    "ExecuteTime": {
     "end_time": "2023-09-01T17:16:49.796009800Z",
     "start_time": "2023-09-01T17:16:49.645217500Z"
    }
   },
   "id": "5f8a6ed3616b662c"
  },
  {
   "cell_type": "code",
   "execution_count": 318,
   "outputs": [
    {
     "data": {
      "text/plain": "614       quicken spell doth u pass\n1732                 put sign close\n861                   lantern chore\n1083                      come face\n371           fell upturn face rose\n                   ...             \n1638     builder build little house\n1095    mean mile mormon settlement\n1130            never tend anything\n1294        swollen tight bury snow\n860         everyone mile could see\nName: text, Length: 1493, dtype: object"
     },
     "execution_count": 318,
     "metadata": {},
     "output_type": "execute_result"
    }
   ],
   "source": [
    "x_train"
   ],
   "metadata": {
    "collapsed": false,
    "ExecuteTime": {
     "end_time": "2023-09-01T17:16:49.801990200Z",
     "start_time": "2023-09-01T17:16:49.653835300Z"
    }
   },
   "id": "8438dce0efa97d17"
  },
  {
   "cell_type": "code",
   "execution_count": 319,
   "outputs": [
    {
     "data": {
      "text/plain": "614     0\n1732    1\n861     1\n1083    1\n371     0\n       ..\n1638    1\n1095    1\n1130    1\n1294    1\n860     1\nName: label, Length: 1493, dtype: int64"
     },
     "execution_count": 319,
     "metadata": {},
     "output_type": "execute_result"
    }
   ],
   "source": [
    "y_train"
   ],
   "metadata": {
    "collapsed": false,
    "ExecuteTime": {
     "end_time": "2023-09-01T17:16:49.802993200Z",
     "start_time": "2023-09-01T17:16:49.664245200Z"
    }
   },
   "id": "7ed1239af64344a9"
  },
  {
   "cell_type": "markdown",
   "source": [
    "# Create Word To Index Mapping"
   ],
   "metadata": {
    "collapsed": false
   },
   "id": "b8be8a2b3125e5d1"
  },
  {
   "cell_type": "code",
   "execution_count": 320,
   "outputs": [],
   "source": [
    "idx = 1\n",
    "word2idx = {'<unk>': 0}"
   ],
   "metadata": {
    "collapsed": false,
    "ExecuteTime": {
     "end_time": "2023-09-01T17:16:49.803986800Z",
     "start_time": "2023-09-01T17:16:49.673826700Z"
    }
   },
   "id": "574841349dda5979"
  },
  {
   "cell_type": "code",
   "execution_count": 321,
   "outputs": [
    {
     "data": {
      "text/plain": "{'<unk>': 0,\n 'quicken': 1,\n 'spell': 2,\n 'doth': 3,\n 'u': 4,\n 'pass': 5,\n 'put': 6,\n 'sign': 7,\n 'close': 8,\n 'lantern': 9,\n 'chore': 10,\n 'come': 11,\n 'face': 12,\n 'fell': 13,\n 'upturn': 14,\n 'rose': 15,\n 'isola': 16,\n 'fior': 17,\n 'di': 18,\n 'levante': 19,\n 'misty': 20,\n 'mid': 21,\n 'region': 22,\n 'become': 23,\n 'reconcile': 24,\n 'see': 25,\n 'stop': 26,\n 'wonder': 27,\n 'sulphurous': 28,\n 'current': 29,\n 'yaanek': 30,\n 'go': 31,\n 'mowing': 32,\n 'field': 33,\n 'gaze': 34,\n 'entrance': 35,\n 'adown': 36,\n 'gorgeous': 37,\n 'vista': 38,\n 'son': 39,\n 'never': 40,\n 'could': 41,\n 'find': 42,\n 'whose': 43,\n 'bone': 44,\n 'wish': 45,\n 'strong': 46,\n 'small': 47,\n 'book': 48,\n 'pocket': 49,\n 'double': 50,\n 'redouble': 51,\n 'song': 52,\n 'twitter': 53,\n 'long': 54,\n 'town': 55,\n 'know': 56,\n 'kind': 57,\n 'old': 58,\n 'davis': 59,\n 'own': 60,\n 'solid': 61,\n 'mica': 62,\n 'mountain': 63,\n 'think': 64,\n 'much': 65,\n 'shade': 66,\n 'nothing': 67,\n 'good': 68,\n 'say': 69,\n 'pay': 70,\n 'sure': 71,\n 'lead': 72,\n 'spring': 73,\n 'upstart': 74,\n 'skiff': 75,\n 'cliff': 76,\n 'bottle': 77,\n 'paint': 78,\n 'thy': 79,\n 'burning': 80,\n 'measure': 81,\n 'house': 82,\n 'renew': 83,\n 'lie': 84,\n 'die': 85,\n 'suddenly': 86,\n 'arisen': 87,\n 'uncommonly': 88,\n 'deep': 89,\n 'snow': 90,\n 'make': 91,\n 'though': 92,\n 'slight': 93,\n 'demand': 94,\n 'felt': 95,\n 'tug': 96,\n 'hell': 97,\n 'want': 98,\n 'even': 99,\n 'would': 100,\n 'ought': 101,\n 'let': 102,\n 'consideration': 103,\n 'ca': 104,\n 'decently': 105,\n 'refuse': 106,\n 'ah': 107,\n 'demon': 108,\n 'tempt': 109,\n 'two': 110,\n 'mile': 111,\n 'abode': 112,\n 'take': 113,\n 'care': 114,\n 'life': 115,\n 'yet': 116,\n 'sound': 117,\n 'silence': 118,\n 'place': 119,\n 'lot': 120,\n 'wall': 121,\n 'everything': 122,\n 'ask': 123,\n 'mistake': 124,\n 'give': 125,\n 'one': 126,\n 'gnaw': 127,\n 'post': 128,\n 'bell': 129,\n 'lair': 130,\n 'lion': 131,\n 'ago': 132,\n 'stock': 133,\n 'petered': 134,\n 'knee': 135,\n 'unless': 136,\n 'do': 137,\n 'oh': 138,\n 'fly': 139,\n 'must': 140,\n 'get': 141,\n 'settle': 142,\n 'wrong': 143,\n 'prove': 144,\n 'bank': 145,\n 'note': 146,\n 'fold': 147,\n 'wild': 148,\n 'apple': 149,\n 'tree': 150,\n 'young': 151,\n 'tender': 152,\n 'bark': 153,\n 'spare': 154,\n 'trouble': 155,\n 'acquaint': 156,\n 'night': 157,\n 'men': 158,\n 'ridiculous': 159,\n 'mother': 160,\n 'folk': 161,\n 'witch': 162,\n 'familiar': 163,\n 'spirit': 164,\n 'idle': 165,\n 'present': 166,\n 'land': 167,\n 'tide': 168,\n 'call': 169,\n 'day': 170,\n 'brush': 171,\n 'chalky': 172,\n 'skull': 173,\n 'finger': 174,\n 'talk': 175,\n 'serious': 176,\n 'sober': 177,\n 'tell': 178,\n 'whether': 179,\n 'nail': 180,\n 'door': 181,\n 'shut': 182,\n 'throw': 183,\n 'bare': 184,\n 'legs': 185,\n 'bed': 186,\n 'headless': 187,\n 'aftermath': 188,\n 'science': 189,\n 'true': 190,\n 'daughter': 191,\n 'time': 192,\n 'thou': 193,\n 'art': 194,\n 'lonesome': 195,\n 'october': 196,\n 'sorry': 197,\n 'ever': 198,\n 'leave': 199,\n 'road': 200,\n 'knew': 201,\n 'raise': 202,\n 'voice': 203,\n 'content': 204,\n 'presume': 205,\n 'west': 206,\n 'bad': 207,\n 'fight': 208,\n 'desert': 209,\n 'wear': 210,\n 'feeling': 211,\n 'crown': 212,\n 'gold': 213,\n 'light': 214,\n 'lonely': 215,\n 'pathway': 216,\n 'home': 217,\n 'always': 218,\n 'motto': 219,\n 'anyway': 220,\n 'might': 221,\n 'well': 222,\n 'like': 223,\n 'best': 224,\n 'extravagance': 225,\n 'love': 226,\n 'valley': 227,\n 'stream': 228,\n 'arouse': 229,\n 'tho': 230,\n 'throne': 231,\n 'fever': 232,\n 'minute': 233,\n 'shoe': 234,\n 'primp': 235,\n 'dance': 236,\n 'exclaim': 237,\n 'saw': 238,\n 'afar': 239,\n 'kinder': 240,\n 'run': 241,\n 'chisel': 242,\n 'work': 243,\n 'enormous': 244,\n 'glacier': 245,\n 'married': 246,\n 'chance': 247,\n 'champion': 248,\n 'devote': 249,\n 'brave': 250,\n 'wrought': 251,\n 'without': 252,\n 'breath': 253,\n 'storm': 254,\n 'celebrate': 255,\n 'something': 256,\n 'strange': 257,\n 'sovereignty': 258,\n 'ancient': 259,\n 'lore': 260,\n 'flow': 261,\n 'story': 262,\n 'tent': 263,\n 'peg': 264,\n 'seem': 265,\n 'courage': 266,\n 'may': 267,\n 'year': 268,\n 'high': 269,\n 'girdle': 270,\n 'mark': 271,\n 'shall': 272,\n 'dawn': 273,\n 'upon': 274,\n 'desolate': 275,\n 'dark': 276,\n 'bulkhead': 277,\n 'hand': 278,\n 'outstretched': 279,\n 'indian': 280,\n 'myth': 281,\n 'chicamoztoc': 282,\n 'separate': 283,\n 'coop': 284,\n 'plumage': 285,\n 'hold': 286,\n 'try': 287,\n 'drop': 288,\n 'eye': 289,\n 'unwilling': 290,\n 'explain': 291,\n 'hourly': 292,\n 'somewhere': 293,\n 'age': 294,\n 'hence': 295,\n 'farming': 296,\n 'fallen': 297,\n 'hour': 298,\n 'money': 299,\n 'twenty': 300,\n 'tone': 301,\n 'hath': 302,\n 'striven': 303,\n 'wood': 304,\n 'wind': 305,\n 'intense': 306,\n 'perhaps': 307,\n 'mean': 308,\n 'gnaws': 309,\n 'stable': 310,\n 'ai': 311,\n 'proof': 312,\n 'unhouse': 313,\n 'cellar': 314,\n 'hall': 315,\n 'flower': 316,\n 'back': 317,\n 'grave': 318,\n 'tower': 319,\n 'thrown': 320,\n 'aside': 321,\n 'far': 322,\n 'bring': 323,\n 'enough': 324,\n 'kitchen': 325,\n 'moonbeam': 326,\n 'hang': 327,\n 'pick': 328,\n 'fresh': 329,\n 'four': 330,\n 'splinter': 331,\n 'purport': 332,\n 'speak': 333,\n 'grandsir': 334,\n 'snap': 335,\n 'three': 336,\n 'however': 337,\n 'brick': 338,\n 'elfin': 339,\n 'green': 340,\n 'grass': 341,\n 'dangle': 342,\n 'foot': 343,\n 'among': 344,\n 'raspberry': 345,\n 'vine': 346,\n 'admire': 347,\n 'nature': 348,\n 'universal': 349,\n 'also': 350,\n 'great': 351,\n 'fun': 352,\n 'way': 353,\n 'veil': 354,\n 'kick': 355,\n 'leg': 356,\n 'army': 357,\n 'mule': 358,\n 'wither': 359,\n 'rise': 360,\n 'groan': 361,\n 'roll': 362,\n 'mount': 363,\n 'name': 364,\n 'joe': 365,\n 'commune': 366,\n 'angel': 367,\n 'hear': 368,\n 'claim': 369,\n 'several': 370,\n 'marry': 371,\n 'father': 372,\n 'cold': 373,\n 'near': 374,\n 'source': 375,\n 'right': 376,\n 'hard': 377,\n 'dim': 378,\n 'lake': 379,\n 'auber': 380,\n 'birch': 381,\n 'boughs': 382,\n 'pile': 383,\n 'everywhere': 384,\n 'john': 385,\n 'buy': 386,\n 'bill': 387,\n 'leaf': 388,\n 'sere': 389,\n 'arthur': 390,\n 'amy': 391,\n 'piano': 392,\n 'new': 393,\n 'difference': 394,\n 'anything': 395,\n 'curl': 396,\n 'little': 397,\n 'round': 398,\n 'ready': 399,\n 'almost': 400,\n 'poetess': 401,\n 'write': 402,\n 'verse': 403,\n 'barn': 404,\n 'smell': 405,\n 'wash': 406,\n 'plough': 407,\n 'ground': 408,\n 'flicker': 409,\n 'sky': 410,\n 'set': 411,\n 'traveller': 412,\n 'within': 413,\n 'level': 414,\n 'earth': 415,\n 'easy': 416,\n 'downy': 417,\n 'flake': 418,\n 'look': 419,\n 'lightning': 420,\n 'scribble': 421,\n 'bewitch': 422,\n 'last': 423,\n 'longer': 424,\n 'cypress': 425,\n 'roam': 426,\n 'woodland': 427,\n 'weir': 428,\n 'water': 429,\n 'unfortunately': 430,\n 'save': 431,\n 'thee': 432,\n 'send': 433,\n 'sail': 434,\n 'attic': 435,\n 'window': 436,\n 'forgive': 437,\n 'hint': 438,\n 'morn': 439,\n 'nation': 440,\n 'seraph': 441,\n 'spread': 442,\n 'pinion': 443,\n 'away': 444,\n 'interrupted': 445,\n 'cry': 446,\n 'dear': 447,\n 'text': 448,\n 'bidden': 449,\n 'thing': 450,\n 'fifteen': 451,\n 'geese': 452,\n 'sit': 453,\n 'watch': 454,\n 'thine': 455,\n 'absence': 456,\n 'drawn': 457,\n 'sort': 458,\n 'passport': 459,\n 'branch': 460,\n 'unusual': 461,\n 'string': 462,\n 'driven': 463,\n 'hamadryad': 464,\n 'man': 465,\n 'affair': 466,\n 'fervor': 467,\n 'power': 468,\n 'wo': 469,\n 'accept': 470,\n 'substitute': 471,\n 'empty': 472,\n 'miraculous': 473,\n 'crescent': 474,\n 'grow': 475,\n 'drag': 476,\n 'law': 477,\n 'court': 478,\n 'swear': 479,\n 'awful': 480,\n 'room': 481,\n 'show': 482,\n 'shattered': 483,\n 'dish': 484,\n 'underneath': 485,\n 'pine': 486,\n 'hitching': 487,\n 'nausicaa': 488,\n 'unafraid': 489,\n 'till': 490,\n 'toward': 491,\n 'noon': 492,\n 'struck': 493,\n 'bottom': 494,\n 'someone': 495,\n 'live': 496,\n 'hope': 497,\n 'utter': 498,\n 'break': 499,\n 'help': 500,\n 'rapid': 501,\n 'pleiads': 502,\n 'attempt': 503,\n 'stray': 504,\n 'afraid': 505,\n 'wentworth': 506,\n 'stir': 507,\n 'disappear': 508,\n 'end': 509,\n 'tumultuous': 510,\n 'stain': 511,\n 'vegetation': 512,\n 'weak': 513,\n 'line': 514,\n 'loudly': 515,\n 'play': 516,\n 'stand': 517,\n 'together': 518,\n 'crater': 519,\n 'verge': 520,\n 'keep': 521,\n 'brown': 522,\n 'nebulous': 523,\n 'lustre': 524,\n 'born': 525,\n 'matter': 526,\n 'worship': 527,\n 'star': 528,\n 'still': 529,\n 'unearthly': 530,\n 'height': 531,\n 'ascend': 532,\n 'descend': 533,\n 'reascend': 534,\n 'need': 535,\n 'tall': 536,\n 'bless': 537,\n 'expense': 538,\n 'reach': 539,\n 'crisp': 540,\n 'yawning': 541,\n 'lens': 542,\n 'queenly': 543,\n 'lily': 544,\n 'dale': 545,\n 'mallice': 546,\n 'huse': 547,\n 'hyacinthine': 548,\n 'isle': 549,\n 'purple': 550,\n 'zante': 551,\n 'replied': 552,\n 'dreaming': 553,\n 'clara': 554,\n 'robinson': 555,\n 'sun': 556,\n 'narrow': 557,\n 'gap': 558,\n 'entertain': 559,\n 'bird': 560,\n 'owe': 561,\n 'gratitude': 562,\n 'position': 563,\n 'dread': 564,\n 'burden': 565,\n 'sleep': 566,\n 'warm': 567,\n 'brook': 568,\n 'bower': 569,\n 'desolately': 570,\n 'fall': 571,\n 'living': 572,\n 'passionate': 573,\n 'truth': 574,\n 'lupine': 575,\n 'sand': 576,\n 'drouth': 577,\n 'bow': 578,\n 'outward': 579,\n 'radiant': 580,\n 'palace': 581,\n 'rear': 582,\n 'head': 583,\n 'ripple': 584,\n 'ala': 585,\n 'donkey': 586,\n 'ear': 587,\n 'suggest': 588,\n 'shake': 589,\n 'passing': 590,\n 'chimney': 591,\n 'false': 592,\n 'many': 593,\n 'thought': 594,\n 'entomb': 595,\n 'origin': 596,\n 'family': 597,\n 'recognize': 598,\n 'sweet': 599,\n 'god': 600,\n 'creature': 601,\n 'agony': 602,\n 'sob': 603,\n 'sink': 604,\n 'mourn': 605,\n 'morrow': 606,\n 'flourish': 607,\n 'axe': 608,\n 'whirl': 609,\n 'frenzy': 610,\n 'drear': 611,\n 'path': 612,\n 'grows': 613,\n 'faith': 614,\n 'godliness': 615,\n 'wreathe': 616,\n 'myrtle': 617,\n 'sword': 618,\n 'conceal': 619,\n 'push': 620,\n 'upstairs': 621,\n 'upturned': 622,\n 'thousand': 623,\n 'point': 624,\n 'really': 625,\n 'mute': 626,\n 'axis': 627,\n 'blade': 628,\n 'entwine': 629,\n 'warren': 630,\n 'improve': 631,\n 'tile': 632,\n 'least': 633,\n 'dig': 634,\n 'cane': 635,\n 'knock': 636,\n 'cash': 637,\n 'different': 638,\n 'read': 639,\n 'another': 640,\n 'bud': 641,\n 'bloom': 642,\n 'pen': 643,\n 'thrill': 644,\n 'winter': 645,\n 'short': 646,\n 'clasps': 647,\n 'heart': 648,\n 'laugh': 649,\n 'flatter': 650,\n 'thus': 651,\n 'memory': 652,\n 'garden': 653,\n 'alder': 654,\n 'swamp': 655,\n 'someday': 656,\n 'hawk': 657,\n 'since': 658,\n 'happy': 659,\n 'repine': 660,\n 'whole': 661,\n 'lord': 662,\n 'dream': 663,\n 'everyone': 664,\n 'secret': 665,\n 'communing': 666,\n 'wasp': 667,\n 'miss': 668,\n 'bullet': 669,\n 'sanctum': 670,\n 'maria': 671,\n 'turn': 672,\n 'first': 673,\n 'impulse': 674,\n 'knob': 675,\n 'hillside': 676,\n 'riddle': 677,\n 'genealogy': 678,\n 'fire': 679,\n 'drown': 680,\n 'rain': 681,\n 'writer': 682,\n 'cease': 683,\n 'hymns': 684,\n 'attend': 685,\n 'straight': 686,\n 'mess': 687,\n 'hurt': 688,\n 'heaven': 689,\n 'dwell': 690,\n 'river': 691,\n 'glide': 692,\n 'sake': 693,\n 'fond': 694,\n 'viewing': 695,\n 'company': 696,\n 'bound': 697,\n 'half': 698,\n 'recline': 699,\n 'moon': 700,\n 'sybilic': 701,\n 'splendor': 702,\n 'beaming': 703,\n 'twelvemonth': 704,\n 'thence': 705,\n 'sprung': 706,\n 'numerous': 707,\n 'tribe': 708,\n 'outside': 709,\n 'swarm': 710,\n 'scuttle': 711,\n 'fast': 712,\n 'worn': 713,\n 'skin': 714,\n 'part': 715,\n 'stifle': 716,\n 'hot': 717,\n 'odor': 718,\n 'sap': 719,\n 'bid': 720,\n 'interest': 721,\n 'stone': 722,\n 'bush': 723,\n 'unretrieved': 724,\n 'front': 725,\n 'others': 726,\n 'wriggle': 727,\n 'speed': 728,\n 'daylight': 729,\n 'gather': 730,\n 'atmosphere': 731,\n 'luminary': 732,\n 'clock': 733,\n 'partial': 734,\n 'th': 735,\n 'expand': 736,\n 'news': 737,\n 'dreadful': 738,\n 'fool': 739,\n 'laurel': 740,\n 'belong': 741,\n 'stark': 742,\n 'footstep': 743,\n 'hated': 744,\n 'world': 745,\n 'slept': 746,\n 'truly': 747,\n 'pallor': 748,\n 'strangely': 749,\n 'mistrust': 750,\n 'conquer': 751,\n 'scruple': 752,\n 'gloom': 753,\n 'cedar': 754,\n 'choke': 755,\n 'oil': 756,\n 'helpless': 757,\n 'business': 758,\n 'use': 759,\n 'july': 760,\n 'midnight': 761,\n 'moisture': 762,\n 'color': 763,\n 'thicken': 764,\n 'wanderer': 765,\n 'excitement': 766,\n 'guess': 767,\n 'sat': 768,\n 'listen': 769,\n 'judgment': 770,\n 'hitched': 771,\n 'fair': 772,\n 'begin': 773,\n 'strain': 774,\n 'dite': 775,\n 'comfort': 776,\n 'fur': 777,\n 'trade': 778,\n 'person': 779,\n 'relate': 780,\n 'pale': 781,\n 'bathtub': 782,\n 'air': 783,\n 'ride': 784,\n 'resemble': 785,\n 'perish': 786,\n 'twice': 787,\n 'otherwise': 788,\n 'ralle': 789,\n 'sioux': 790,\n 'control': 791,\n 'legended': 792,\n 'tomb': 793,\n 'coat': 794,\n 'seat': 795,\n 'soul': 796,\n 'holy': 797,\n 'ray': 798,\n 'hew': 799,\n 'shape': 800,\n 'vision': 801,\n 'maiden': 802,\n 'graciously': 803,\n 'north': 804,\n 'south': 805,\n 'across': 806,\n 'blue': 807,\n 'inquired': 808,\n 'descent': 809,\n 'scoriac': 810,\n 'sacred': 811,\n 'weep': 812,\n 'mind': 813,\n 'novelty': 814,\n 'despite': 815,\n 'harmodious': 816,\n 'gallant': 817,\n 'whereat': 818,\n 'particular': 819,\n 'sing': 820,\n 'wildly': 821,\n 'psyche': 822,\n 'uplifting': 823,\n 'uplifted': 824,\n 'heard': 825,\n 'estelle': 826,\n 'sigh': 827,\n 'gentle': 828,\n 'cast': 829,\n 'start': 830,\n 'either': 831,\n 'finding': 832,\n 'ere': 833,\n 'often': 834,\n 'car': 835,\n 'detail': 836,\n 'burn': 837,\n 'dissolve': 838,\n 'broken': 839,\n 'melody': 840,\n 'scar': 841,\n 'dew': 842,\n 'summer': 843,\n 'western': 844,\n 'couch': 845,\n 'arose': 846,\n 'duplicate': 847,\n 'horn': 848,\n 'wheel': 849,\n 'bead': 850,\n 'creak': 851,\n 'buggy': 852,\n 'load': 853,\n 'grain': 854,\n 'mad': 855,\n 'eddy': 856,\n 'topple': 857,\n 'morning': 858,\n 'equally': 859,\n 'lay': 860,\n 'horrible': 861,\n 'monody': 862,\n 'float': 863,\n 'granny': 864,\n 'polish': 865,\n 'crust': 866,\n 'build': 867,\n 'clear': 868,\n 'bade': 869,\n 'pause': 870,\n 'threshold': 871,\n 'gate': 872,\n 'harm': 873,\n 'glass': 874,\n 'case': 875,\n 'sincere': 876,\n 'reply': 877,\n 'halt': 878,\n 'perplex': 879,\n 'behind': 880,\n 'barrier': 881,\n 'powerless': 882,\n 'shiver': 883,\n 'brace': 884,\n 'arctic': 885,\n 'pole': 886,\n 'resignedly': 887,\n 'beneath': 888,\n 'word': 889,\n 'silver': 890,\n 'slam': 891,\n 'timber': 892,\n 'italian': 893,\n 'murmur': 894,\n 'besides': 895,\n 'iron': 896,\n 'wagon': 897,\n 'brittle': 898,\n 'floor': 899,\n 'terror': 900,\n 'journeyed': 901,\n 'journey': 902,\n 'bakeshop': 903,\n 'meal': 904,\n 'harper': 905,\n 'israfel': 906,\n 'pierce': 907,\n 'trap': 908,\n 'diverge': 909,\n 'yellow': 910,\n 'stood': 911,\n 'resurrect': 912,\n 'record': 913,\n 'ashen': 914,\n 'lose': 915,\n 'tongue': 916,\n 'wait': 917,\n 'happen': 918,\n 'favour': 919,\n 'downstairs': 920,\n 'shrine': 921,\n 'united': 922,\n 'strength': 923,\n 'ether': 924,\n 'lady': 925,\n 'alone': 926,\n 'fought': 927,\n 'battle': 928,\n 'bedroom': 929,\n 'finish': 930,\n 'mist': 931,\n 'rested': 932,\n 'hook': 933,\n 'anyone': 934,\n 'forget': 935,\n 'lone': 936,\n 'open': 937,\n 'maintain': 938,\n 'deny': 939,\n 'funereal': 940,\n 'dank': 941,\n 'tarn': 942,\n 'cony': 943,\n 'romp': 944,\n 'harpstring': 945,\n 'heed': 946,\n 'sell': 947,\n 'beyond': 948,\n 'shatter': 949,\n 'seedpod': 950,\n 'stair': 951,\n 'step': 952,\n 'mask': 953,\n 'viol': 954,\n 'avail': 955,\n 'liquescent': 956,\n 'en': 957,\n 'masse': 958,\n 'henry': 959,\n 'hudson': 960,\n 'offer': 961,\n 'important': 962,\n 'cool': 963,\n 'dare': 964,\n 'crutch': 965,\n 'seven': 966,\n 'moss': 967,\n 'boy': 968,\n 'rare': 969,\n 'return': 970,\n 'rich': 971,\n 'bear': 972,\n 'comer': 973,\n 'month': 974,\n 'trodden': 975,\n 'black': 976,\n 'virgin': 977,\n 'instant': 978,\n 'birth': 979,\n 'bent': 980,\n 'undergrowth': 981,\n 'loom': 982,\n 'ten': 983,\n 'million': 984,\n 'lizard': 985,\n 'remember': 986,\n 'left': 987,\n 'along': 988,\n 'amid': 989,\n 'earthly': 990,\n 'moan': 991,\n 'evening': 992,\n 'hasten': 993,\n 'linger': 994,\n 'ocean': 995,\n 'throb': 996,\n 'free': 997,\n 'weight': 998,\n 'scene': 999,\n ...}"
     },
     "execution_count": 321,
     "metadata": {},
     "output_type": "execute_result"
    }
   ],
   "source": [
    "for text in x_train:\n",
    "    tokens = text.split()\n",
    "    for token in tokens:\n",
    "        if token not in word2idx:\n",
    "            word2idx[token] = idx\n",
    "            idx += 1\n",
    "\n",
    "word2idx"
   ],
   "metadata": {
    "collapsed": false,
    "ExecuteTime": {
     "end_time": "2023-09-01T17:16:49.837833800Z",
     "start_time": "2023-09-01T17:16:49.681348600Z"
    }
   },
   "id": "2d7b9e0a682fb26e"
  },
  {
   "cell_type": "markdown",
   "source": [
    "# Converting  Data Into Integers"
   ],
   "metadata": {
    "collapsed": false
   },
   "id": "25c71d8ca0d67c6b"
  },
  {
   "cell_type": "code",
   "execution_count": 322,
   "outputs": [],
   "source": [
    "x_train_int = []\n",
    "x_test_int = []\n",
    "\n",
    "for text in x_train:\n",
    "    text2idx = []\n",
    "    tokens = text.split()\n",
    "    for token in tokens:\n",
    "        text2idx.append(word2idx[token])\n",
    "    x_train_int.append(text2idx)\n",
    "\n",
    "for text in x_test:\n",
    "    text2idx = []\n",
    "    tokens = text.split()\n",
    "    for token in tokens:\n",
    "        try:\n",
    "            text2idx.append(word2idx[token])\n",
    "        except:\n",
    "            text2idx.append(word2idx['<unk>'])\n",
    "    x_test_int.append(text2idx)\n"
   ],
   "metadata": {
    "collapsed": false,
    "ExecuteTime": {
     "end_time": "2023-09-01T17:16:49.866527200Z",
     "start_time": "2023-09-01T17:16:49.712370500Z"
    }
   },
   "id": "76e27ec9c3de9680"
  },
  {
   "cell_type": "code",
   "execution_count": 323,
   "outputs": [
    {
     "data": {
      "text/plain": "[[1, 2, 3, 4, 5],\n [6, 7, 8],\n [9, 10],\n [11, 12],\n [13, 14, 12, 15],\n [16, 17, 18, 19],\n [20, 21, 22],\n [23, 24],\n [25, 26],\n [27],\n [28, 29, 30],\n [31, 32, 33],\n [34, 35, 36, 37, 38],\n [39, 40, 41, 42, 43, 44],\n [45, 46],\n [47, 48, 49],\n [50, 51, 52, 53],\n [54, 55],\n [56, 57],\n [58, 59, 60, 61, 62, 63],\n [64, 65, 66],\n [67, 68, 69, 70],\n [71, 72, 4],\n [73, 74],\n [47, 75],\n [76, 76, 77, 78],\n [79, 80, 81],\n [58, 58, 82, 83, 78],\n [84, 85, 86, 87],\n [88, 89, 90, 91, 64],\n [92, 93, 94, 95, 96],\n [97, 69, 98, 56],\n [99, 100, 101, 56],\n [102, 69, 103],\n [104, 105, 106],\n [107, 108, 109],\n [110, 111, 112],\n [25, 113, 114],\n [115, 116, 31],\n [117, 118, 119],\n [120, 121, 122],\n [123, 124],\n [125],\n [126, 69, 127, 128],\n [129, 129, 129],\n [69],\n [11, 130, 131],\n [54, 132],\n [69, 133, 134],\n [97, 135, 136, 137],\n [138, 139, 102, 4, 139, 140],\n [141, 142, 143, 144],\n [113, 145, 146, 147],\n [148, 149, 150, 151, 152, 153],\n [102, 69, 103],\n [154, 155, 50, 155],\n [126, 156, 157],\n [56, 158, 159],\n [160, 161, 64, 162, 163, 164],\n [165],\n [122, 166, 167, 168],\n [169, 170],\n [171, 172, 173, 172, 174],\n [175, 176, 177],\n [178, 179],\n [141, 180, 91, 180, 181, 182],\n [91, 183, 184, 185, 186],\n [187, 188],\n [189, 190, 191, 58, 192, 193, 194],\n [56],\n [157, 195, 196],\n [197, 198, 199, 200, 201],\n [202, 203, 8, 181],\n [204, 205],\n [182, 178],\n [92, 68],\n [31, 206, 207, 208, 209],\n [210, 89, 211, 212],\n [206, 141, 213],\n [214, 215, 216, 217, 157],\n [218, 162, 219, 220],\n [221, 222, 223, 224],\n [225, 151, 226],\n [56, 227, 228, 229],\n [230, 43, 231],\n [232, 233],\n [43, 234, 235, 236],\n [237, 238, 239],\n [56, 240, 241, 158],\n [242, 243, 244, 245],\n [223, 122, 91],\n [141, 246, 247],\n [223, 248, 249, 250],\n [251, 150, 252, 253, 254],\n [255, 256, 257],\n [258, 259, 260],\n [11, 261, 261, 261],\n [262],\n [25, 263, 264],\n [265, 266],\n [109],\n [138, 139, 102, 4, 139, 140],\n [222, 267, 144, 268, 269, 270, 271],\n [272, 273, 274, 275],\n [91, 276],\n [277],\n [11, 126, 278, 279],\n [280, 281, 282],\n [283, 284, 285, 137],\n [286, 181, 44, 287],\n [288, 289, 290, 291],\n [292, 107],\n [293, 294, 294, 295],\n [55, 296, 297],\n [116, 164, 56, 298],\n [299, 86, 11],\n [300, 268, 132],\n [269, 301, 164, 302, 303],\n [304, 305, 63, 306],\n [307, 194, 308],\n [309, 310, 311, 312],\n [313],\n [181, 314, 315],\n [141, 148, 316, 317],\n [278, 140],\n [160, 56, 318, 314],\n [117, 170],\n [319, 320, 321],\n [322, 104, 25, 11],\n [323, 178],\n [56, 140, 257, 324],\n [325, 276],\n [232, 326, 327],\n [48, 223, 328, 126, 329],\n [330, 331, 144],\n [332, 333, 58, 334],\n [335, 289, 336, 192],\n [337, 322, 140, 31, 338],\n [339, 340, 341],\n [342, 343, 344, 345, 346],\n [347, 348, 349, 231],\n [350, 351],\n [352, 353, 141],\n [13, 354, 214],\n [355, 110, 356, 223, 357, 358],\n [359, 360],\n [11, 130, 131],\n [361, 362, 363, 30],\n [364, 365],\n [164, 366, 367],\n [203, 125, 45, 368],\n [307, 222, 369],\n [370, 192, 371, 372],\n [373, 73, 116, 374, 375],\n [222, 376],\n [377, 378, 379, 380],\n [210, 89, 211, 212],\n [381, 382, 324, 383, 384],\n [56, 170],\n [222, 56, 378, 379],\n [385, 386, 70, 387],\n [13, 14, 12, 15],\n [388, 359, 389],\n [390, 391, 56],\n [98],\n [392, 393, 78, 317],\n [91, 394],\n [123, 395],\n [396, 397, 174, 398],\n [399, 64, 400, 395],\n [401, 402, 48, 403],\n [404, 405, 104, 406, 407, 408],\n [25, 409, 410, 157],\n [411, 203, 333],\n [412, 413, 227],\n [126, 414, 269, 415],\n [416, 305, 417, 418],\n [175, 176, 177],\n [419, 223, 420, 421],\n [422, 100, 423, 424],\n [425, 426],\n [427, 428],\n [429, 429, 119],\n [69],\n [430, 126, 57, 92],\n [431, 432],\n [433, 434, 435, 436],\n [69, 104, 141, 437],\n [438, 439],\n [440, 440],\n [40, 441, 442, 443],\n [322, 444, 445, 446],\n [79, 447, 364, 448, 92, 449, 432],\n [223, 450],\n [451, 268],\n [223, 148, 452, 379, 254],\n [453, 276],\n [50, 454],\n [455, 456],\n [457, 458, 459, 460],\n [461, 462],\n [463, 464, 304],\n [91, 65, 394, 465, 466],\n [126, 175],\n [467, 468],\n [469, 470, 471, 472],\n [473, 474],\n [64, 475, 450, 100, 68],\n [476, 477, 478],\n [458, 479, 192, 444, 480],\n [40, 238, 481, 482],\n [483, 484, 485, 486],\n [11, 82, 31],\n [127, 487, 128],\n [169, 488, 489],\n [385],\n [490, 222, 491, 492, 254, 142],\n [493, 377, 314, 494, 495],\n [64, 207, 496],\n [41, 497, 498, 2, 499],\n [25, 222, 500],\n [501, 502, 99],\n [64, 503, 504],\n [161, 505, 4],\n [506, 69],\n [91, 388, 126, 507],\n [508, 509, 322],\n [510],\n [511, 512],\n [64, 513, 514, 402],\n [392, 515, 516],\n [517, 518, 519, 520],\n [521, 522, 517, 373],\n [523, 524, 525],\n [68, 203, 69],\n [69, 376, 526, 160],\n [527, 528],\n [529, 530, 531],\n [532, 533, 534],\n [535, 536, 126],\n [537, 538, 92, 539],\n [388, 540, 389],\n [541, 542],\n [543, 544, 36, 545],\n [7, 546, 547],\n [192, 54, 132],\n [548, 549, 550, 551],\n [552, 67, 553],\n [140, 368, 554, 555],\n [556, 557, 558],\n [559, 560, 286, 316],\n [561, 432, 43, 562],\n [91, 563, 46, 64],\n [323, 564, 565],\n [566, 567],\n [568, 429, 82],\n [231, 569],\n [570, 571],\n [41, 169, 572, 311],\n [573, 164],\n [218, 69],\n [574, 213, 40],\n [575, 572, 576, 577],\n [578, 579, 63],\n [580, 581, 582, 583],\n [584, 396, 585],\n [586, 587, 588, 589],\n [92, 590],\n [218, 591, 592],\n [44, 223, 435, 102],\n [593, 594, 595, 497],\n [222, 482, 390, 391, 7, 324],\n [596, 597],\n [41, 598, 128],\n [599, 203, 600, 601],\n [602, 603, 102, 604],\n [137],\n [107, 102, 4, 605, 40, 606],\n [607, 608, 31],\n [609, 610],\n [611, 612, 585, 613],\n [92, 614, 615, 43, 231],\n [616, 617, 618, 619],\n [620, 621, 214],\n [274, 622, 12, 623],\n [624, 439],\n [178, 203, 625, 69],\n [55, 272, 142, 295],\n [222, 267, 528, 626],\n [274, 54, 627],\n [329, 617, 628, 629],\n [506, 630, 68, 55, 496],\n [287, 631, 434, 223, 632],\n [633, 41, 500, 634, 318],\n [203, 265, 69],\n [98, 6, 214, 25],\n [635, 126, 636],\n [178],\n [521, 637, 278, 67, 155],\n [638, 465, 633, 385],\n [164, 366, 367],\n [639, 126, 639, 640],\n [41, 126, 175, 69],\n [69, 641, 388, 642],\n [643, 644, 64],\n [298, 645, 170, 221, 265, 646],\n [126, 647, 648, 649, 518],\n [650, 140, 110, 55, 208],\n [287, 110],\n [146, 378, 379],\n [651, 79, 652],\n [395, 45, 125],\n [645, 653, 654, 655],\n [656],\n [657, 658],\n [659, 316, 660, 150],\n [115, 496, 661],\n [662, 663, 664],\n [665, 666, 286],\n [435, 667, 31, 668, 223, 669],\n [670, 671, 672, 455, 289],\n [673, 674, 141, 675],\n [676, 170, 556, 102, 31],\n [31, 178, 256, 469, 223],\n [677, 678],\n [405, 679, 680, 681],\n [54, 132, 682, 514],\n [683, 684, 685, 2],\n [371, 686, 687],\n [388, 359, 389],\n [269, 301, 164, 302, 303],\n [688, 495],\n [689, 164, 3, 690],\n [691, 692],\n [600, 693, 694, 695, 348],\n [696, 579, 697],\n [238, 432, 698, 699, 700],\n [701, 702, 703],\n [41, 178, 192, 704],\n [705, 706, 707, 708],\n [709, 181, 116, 286, 4],\n [710, 529, 241, 711, 712],\n [713, 714, 44],\n [166, 216, 715],\n [716, 717, 718, 719],\n [298, 4, 720],\n [124, 447, 56, 721],\n [141, 395],\n [84, 722, 723, 724],\n [725, 300, 726, 727, 728],\n [298, 729, 730, 731],\n [199, 497, 658],\n [126, 732, 733, 410],\n [265, 734],\n [3, 4, 5, 735, 736, 289],\n [98, 368, 737, 738, 739],\n [432, 740, 741],\n [742],\n [353, 115, 192],\n [517, 691, 200],\n [743, 507, 744, 745, 746],\n [178, 747, 158, 415],\n [91],\n [748, 749, 750],\n [751, 752, 753],\n [655, 754, 755, 756, 754],\n [265, 757],\n [40, 102, 9, 288],\n [161, 223, 4, 758],\n [31, 759, 289, 368],\n [40, 69, 65, 371],\n [760, 761],\n [762, 763, 718, 764],\n [90, 13, 89],\n [765, 659, 227],\n [304, 766],\n [767, 56, 6],\n [768, 769, 490, 125, 770],\n [476],\n [725, 126, 55, 315, 199, 771],\n [772, 549, 772, 316],\n [773, 68, 26],\n [774, 65, 268],\n [323, 564, 565],\n [775, 593, 776],\n [495, 200, 217, 243],\n [777, 778],\n [25, 496, 593, 268],\n [67, 11, 434],\n [56, 779, 780],\n [12],\n [781, 181],\n [58, 782, 25],\n [783, 784],\n [785, 67],\n [435, 181, 181, 180],\n [136],\n [786, 787],\n [788, 100, 571, 115, 689],\n [178, 789, 790, 791, 178],\n [181, 792, 793],\n [794, 68, 795],\n [594, 796, 64],\n [123, 365],\n [797, 798, 689, 11],\n [344, 345, 799, 800],\n [593, 801, 802],\n [126, 58, 59, 720, 803],\n [804, 805, 806, 807],\n [808, 526, 312],\n [148, 809, 126, 157],\n [810, 691],\n [347, 348, 349, 231],\n [811, 812, 537, 432],\n [307, 267, 813, 251],\n [390, 391, 371],\n [113, 315, 181, 814],\n [568, 202, 472, 227],\n [11, 815, 131],\n [223, 816, 817, 68],\n [569, 818, 663, 25],\n [819, 192],\n [221, 820, 821, 222],\n [681, 64, 31, 681],\n [822, 823, 174],\n [431, 796, 455, 824, 289],\n [26, 181],\n [31, 322, 825, 826, 241],\n [401, 827, 56, 689],\n [700, 528],\n [269, 206, 91, 828, 829],\n [482],\n [353, 830, 478],\n [831, 419, 832, 256],\n [599, 316, 833, 54],\n [834, 25, 316, 5, 835],\n [107, 108, 109],\n [836, 837, 838, 839],\n [165],\n [79, 840],\n [841],\n [842, 157, 192, 843, 341],\n [842, 843, 341],\n [844, 845],\n [846, 847, 848],\n [126, 31, 217, 353, 82],\n [469, 141, 322, 849, 327],\n [181, 792, 793],\n [223, 850, 777],\n [851, 852, 853, 854],\n [64, 855, 178],\n [856, 857, 513],\n [858, 859, 860],\n [157, 44, 11],\n [861, 862, 863],\n [537, 334, 742, 864],\n [113, 865, 866],\n [867, 591, 868, 408],\n [113, 265, 68],\n [869, 870],\n [871, 872, 663],\n [873, 25],\n [874, 875, 267, 69],\n [876, 877],\n [169, 317, 69],\n [878, 879, 880, 881],\n [643, 571, 882, 883, 278],\n [884, 343, 885, 886],\n [887, 888, 410],\n [431, 214, 31],\n [79, 889, 214],\n [397, 890, 129],\n [891, 181, 286, 675],\n [169, 488, 113, 892],\n [122, 125],\n [599, 497, 432, 455],\n [658, 353, 419],\n [157, 423, 268],\n [893, 301, 91, 894],\n [895, 210, 896, 897, 849],\n [39, 56, 262],\n [493, 278, 898, 899],\n [900, 333, 102, 604],\n [901, 902],\n [126, 198, 496],\n [427, 428],\n [302, 397, 415],\n [713, 625],\n [141, 458, 903, 904, 518],\n [99, 441, 905, 906],\n [907, 397, 528],\n [411, 908],\n [110, 200, 909, 910, 304],\n [911, 912, 150],\n [455, 456],\n [658, 409, 689, 157],\n [411, 120, 913],\n [410, 914, 177],\n [915, 916, 679],\n [917, 450, 918, 919],\n [113, 268, 268, 91, 65],\n [68, 207, 207, 224],\n [64, 825, 920, 314],\n [467, 79],\n [921, 581, 319],\n [47, 68, 395, 475, 148],\n [624, 4, 612],\n [659, 599],\n [922, 923],\n [362, 924],\n [925, 926],\n [927, 928],\n [640, 325, 929],\n [315, 930, 929],\n [90, 931],\n [870, 932, 458, 933],\n [11, 806, 811],\n [934, 41],\n [834, 935, 192, 936],\n [89, 648, 43, 497, 85],\n [102, 908, 937, 181, 435],\n [938, 468, 889, 939, 198],\n [772, 581, 181],\n [31, 178],\n [600, 940, 813],\n [222, 56, 941, 942, 380],\n [943, 11, 556, 944],\n [257, 117, 945, 839],\n [223, 69],\n [102, 325, 181],\n [946, 275],\n [31],\n [646, 947, 125, 444],\n [948, 949, 950],\n [773, 951, 110, 743, 952],\n [810, 691, 362],\n [953, 954, 346],\n [20, 21, 22, 428],\n [523, 524, 525],\n [6, 343, 126, 252, 955],\n [39, 100, 98, 178],\n [509, 612, 956],\n [493, 957, 958],\n [658, 465, 773],\n [959, 960, 31],\n [56, 828, 120],\n [385, 223, 178, 961],\n [962, 92, 64],\n [199, 937, 181, 963, 481],\n [305, 964, 507, 136],\n [100, 364, 298],\n [353, 465, 126, 356, 965],\n [681, 90, 966, 268],\n [150, 475, 646, 967, 536],\n [435, 198, 98],\n [25, 397, 397, 968],\n [141],\n [969, 580, 316, 52],\n [125, 970],\n [107, 157, 157, 268],\n [971, 84],\n [126, 140, 972, 377, 393, 973],\n [201, 974, 196],\n [388, 952, 975, 976],\n [388, 359, 389],\n [977, 415, 125, 978, 979],\n [257, 117, 499],\n [980, 981],\n [745, 272, 125],\n [138, 40, 982],\n [983, 984, 890, 985, 90],\n [178, 482, 986],\n [274, 987, 353, 988],\n [989, 990, 991],\n [645, 992],\n [138, 993, 138, 102, 4, 994],\n [995, 996, 322, 997],\n [91, 170, 745],\n [998, 294, 90],\n [593, 999, 1000, 1001],\n [463, 681, 1002, 1003],\n [1004, 388, 1005],\n [1006, 1007, 71, 324],\n [509, 322, 31, 1008],\n [419, 1009, 1010, 1011, 1012],\n [1013, 1014],\n [39, 1015, 160, 186, 620],\n [233, 368, 952, 31, 529],\n [1016],\n [594, 1017],\n [257],\n [556, 842],\n [141, 1018],\n [624],\n [1019, 1020, 1021],\n [43, 1022, 1023, 1024, 115, 1025],\n [1026, 1027],\n [58, 31, 102],\n [56, 221, 529, 1028],\n [941, 942, 380],\n [1029, 1030, 192],\n [362, 924, 827],\n [340, 227],\n [39, 160, 91, 1031, 1032, 582],\n [208, 1033],\n [1034, 56, 126, 415],\n [110, 199, 472, 82],\n [1035, 1036, 1037],\n [526, 322, 593, 192],\n [223, 465, 223, 1038],\n [150, 202],\n [796],\n [98, 287, 256, 1039],\n [602, 603, 102, 604],\n [1040, 604, 1041, 168],\n [109, 753],\n [374, 1042, 138, 986],\n [272, 125, 1043, 192],\n [1044, 1045, 40, 1046],\n [28, 29, 30],\n [372, 31, 621, 160, 920],\n [915, 324, 42],\n [67, 193, 194],\n [446, 1047, 196],\n [1048, 207, 1049],\n [1050],\n [552, 1051, 1051],\n [986, 941, 942, 380],\n [54, 192],\n [1052, 1053, 787, 222],\n [1054, 1055],\n [658, 11, 11],\n [199, 1056, 1057],\n [1058, 1059, 269, 689],\n [671, 193, 1060, 825, 1061],\n [769, 450],\n [825, 1006, 621, 929],\n [698, 419, 1062, 1063],\n [324, 1064],\n [624, 4, 612, 410],\n [104, 1065, 178, 353, 137],\n [454, 304, 1066, 90],\n [1067, 1068],\n [226, 1069, 289],\n [1070, 528, 1071, 178],\n [652, 1072, 389],\n [69, 223],\n [453, 113, 286],\n [31, 787, 1053, 150],\n [1073, 1074, 351, 1075],\n [578, 1020, 1076, 477],\n [64, 69, 889],\n [1077],\n [126, 640],\n [298],\n [911, 1078, 199, 778, 271],\n [1079, 431, 431, 1080, 193],\n [316, 300, 73],\n [364, 316, 71],\n [129, 107, 129],\n [1081, 1082],\n [497, 1083],\n [1084, 1085],\n [1086, 698, 772],\n [1087, 469, 68, 1088],\n [1089, 759, 867, 783],\n [125, 50, 636],\n [25, 1090, 1091],\n [1092, 438, 305, 267],\n [1093, 353, 267, 1094],\n [1095],\n [561, 1096],\n [126, 1097, 54, 517],\n [41, 69],\n [82, 82],\n [1098, 1099, 302, 582, 231],\n [917, 125, 278],\n [267, 222, 25, 431, 170],\n [11, 686, 63, 712],\n [102, 1100, 435, 658, 31],\n [157, 1101],\n [126, 126, 1102, 110],\n [1103],\n [102, 69, 140, 31],\n [1104, 69, 89, 63],\n [1105, 1106, 1107, 1108],\n [620, 1015, 186],\n [1109, 1110, 1111, 1112, 681, 931],\n [1113, 1114, 623, 1115],\n [31, 490, 1116, 42],\n [100, 40, 116, 31],\n [25, 496, 31],\n [1117, 1118, 597, 150],\n [267, 855],\n [69, 1119, 528, 750],\n [1120, 1121, 222, 1122],\n [55, 1123, 1124, 1110, 1125],\n [1105, 1126, 710, 672, 1127],\n [41, 169, 1128, 645, 992],\n [1129, 1130],\n [25, 363, 1131],\n [1132, 256, 158, 158],\n [40, 769, 344, 117],\n [181, 1015, 98, 141],\n [114, 990, 120],\n [222, 56, 941, 942, 380],\n [633, 1133, 1134, 77],\n [1135, 760],\n [25, 256, 143],\n [223, 401, 648, 226],\n [1136, 1137, 1138],\n [983, 645, 1139],\n [160, 1140, 1141, 42],\n [40],\n [1142],\n [58, 314, 1143],\n [319, 1144],\n [1145],\n [1146, 1147, 1148, 1149],\n [254, 1135],\n [47, 1150, 1151],\n [431, 1152, 214, 455],\n [308, 160, 742],\n [123],\n [1153, 625, 686, 444],\n [140, 1016, 813, 31, 1154],\n [160, 1102, 41, 39, 178, 574],\n [1155, 52],\n [495, 1156, 241, 415],\n [11, 98, 368, 175],\n [401, 115],\n [25, 55, 98, 113],\n [1093, 192, 147, 806],\n [26, 252, 1157, 374],\n [1158, 584],\n [141, 256],\n [110, 200, 909, 304],\n [1159, 1160, 474],\n [104, 69, 65, 500],\n [44, 314, 318],\n [1161, 1162, 1163],\n [113, 192, 223, 368],\n [1164, 1165, 469, 688, 843, 419],\n [385, 772],\n [324, 133, 1166],\n [91, 730, 1002, 90, 1167],\n [455, 585, 1168],\n [68, 367, 1169],\n [1148, 1170, 1171, 119, 119],\n [1172, 1173, 216, 689],\n [376, 376, 1174, 376],\n [223, 1175, 1176, 842],\n [82, 1166, 92],\n [400, 1112, 125, 937],\n [497, 25],\n [56, 161, 411],\n [54, 658, 125, 1177, 521, 1178],\n [1179, 1147, 1179, 12],\n [222, 371, 101, 68],\n [1180, 408, 1110, 1002],\n [91, 1181, 52],\n [769, 490, 400, 1182, 951],\n [140, 1183, 25],\n [238, 436, 976],\n [318, 126],\n [499, 1184, 91, 1185],\n [113, 776, 1186],\n [104, 42, 934, 113, 119],\n [1187, 157, 1188, 1189],\n [1190, 1191, 1192],\n [92, 902],\n [98],\n [1193, 1194],\n [742, 56, 1195],\n [911],\n [529, 69, 1196, 1197, 1198, 63],\n [1199, 268],\n [1200, 1201, 79, 915, 1051],\n [661, 1202, 1203, 875],\n [113, 54, 353, 217],\n [47, 1204, 1205, 1206, 1207],\n [1208, 419, 1209],\n [289, 1210, 1211, 1212],\n [65, 1213],\n [388, 540],\n [1214, 110, 68, 1189],\n [223, 1215, 549],\n [25, 15, 718],\n [82, 322, 41, 521],\n [1216, 268],\n [91, 1217, 1218],\n [1219, 63, 1220, 400, 1221],\n [222, 56, 140, 256],\n [906],\n [40, 368, 82, 1222],\n [25, 31, 68, 1214],\n [104, 125, 368, 203],\n [499, 1223],\n [889, 1224],\n [968, 207, 1225, 56],\n [1099, 419, 1226],\n [649, 1227],\n [1228, 847, 848],\n [811, 812, 537, 432],\n [158, 124],\n [1229, 69, 450],\n [25],\n [476, 465],\n [1230],\n [220, 178],\n [42, 688, 1231],\n [411, 1232, 1233, 450],\n [1191, 373],\n [937, 181, 141],\n [941, 942, 380],\n [1234, 1235, 252, 1236, 1237],\n [353, 465, 294],\n [1238, 1210, 1239, 850],\n [1240, 432],\n [1241, 1242],\n [218, 960, 1213],\n [1243, 1244, 289],\n [1245],\n [1246, 1247, 408],\n [65, 947, 1248, 65, 521],\n [1249, 98, 31],\n [591, 830, 1250],\n [1251, 1252, 186],\n [1253, 91, 1254],\n [1255, 385],\n [256, 1073, 521, 317],\n [272],\n [64, 522, 198, 125, 497],\n [1256, 1188, 1257, 528],\n [451, 192, 69],\n [98, 1258, 157, 1259],\n [1260, 1127, 1078, 1261],\n [157, 423, 268],\n [69, 745, 509, 679],\n [223, 1262, 228],\n [302, 1017, 593],\n [113, 126, 1080, 1263],\n [1264, 560, 1170, 645, 1214],\n [1248, 1265],\n [116, 138, 109, 1266, 48],\n [1267, 505, 679],\n [496, 56],\n [1268, 518],\n [200, 526, 370, 111],\n [1269, 218],\n [42],\n [900, 333, 102, 604],\n [267, 1270, 343],\n [25, 409, 410, 157],\n [987, 1271, 13, 1272],\n [977, 1273, 89, 1274],\n [1275, 568, 1207, 150],\n [27, 1276],\n [390, 391],\n [223, 113, 482],\n [423, 268, 1167, 1277, 1278, 1279],\n [141, 1280, 376, 1281],\n [972, 521, 529],\n [453, 517, 1282],\n [289, 465],\n [1274, 6, 444],\n [238, 257, 563],\n [1283, 1284, 1285],\n [43, 304, 64, 56],\n [419, 126, 322, 41],\n [226],\n [890, 1286, 1287],\n [201, 974, 196],\n [826],\n [870, 689],\n [274, 1288, 1289, 1290],\n [1291, 249],\n [221, 265],\n [241, 423],\n [917],\n [256, 171, 806, 813],\n [256, 140, 1183, 1292, 1293],\n [427, 428],\n [427, 428],\n [1003, 1294, 1205, 90],\n [238, 1100, 136, 1250],\n [672, 1295, 11, 317],\n [274, 79, 1296, 1220],\n [306],\n [1297, 364, 1298, 858, 1006],\n [265, 1299, 783],\n [1300, 1301],\n [1302, 679, 1303, 1207],\n [1304, 113, 1305],\n [64, 1306, 91, 65],\n [1307, 125, 7],\n [1308, 661, 948, 1193],\n [397, 1309, 140, 64, 1310],\n [1311, 1311],\n [31, 398, 343],\n [1312, 1083],\n [364, 742, 730, 578],\n [1313, 863, 261],\n [377, 1314, 286],\n [286, 518, 356],\n [698, 587, 392, 1315],\n [1316, 198, 11, 317],\n [1317],\n [26, 1318, 12],\n [1319, 1320, 679],\n [1321, 140, 374, 119],\n [673, 102, 419, 25, 345],\n [1322, 1323, 522],\n [700, 917, 1285, 1324],\n [1144, 507],\n [3, 4, 5, 735, 736, 289],\n [102, 4, 1325, 214],\n [25, 110, 1326, 1327],\n [1328, 1329, 1330],\n [218, 65],\n [556, 528, 1331, 1332, 1008],\n [385, 400, 289, 495],\n [1159, 1160, 474],\n [1333, 1334, 878],\n [55, 55],\n [535, 64, 31, 141, 444],\n [286, 1335, 679],\n [42, 299, 1336],\n [1337, 645, 186],\n [1338, 1093, 353, 1339, 92],\n [1053, 1318, 305, 935],\n [276, 1340, 116, 1341, 497],\n [556, 528, 1331, 1332, 1008],\n [1316, 1342, 304, 1053],\n [1343, 628],\n [934, 1344, 1345],\n [256, 31, 143, 238, 183, 1346],\n [1347, 689, 672, 1348],\n [1349, 1350, 1351],\n [25, 1352, 450, 1259],\n [140, 529, 140, 175],\n [385, 69, 58, 1353],\n [1354, 1355, 25],\n [1356, 476, 910, 1357],\n [742, 597, 1358],\n [1359, 1360, 1361, 1362],\n [1363, 1364, 1365, 1366],\n [69, 41, 723, 1367],\n [102, 1368, 580, 1369],\n [644, 25, 274, 376],\n [469, 11, 207, 104],\n [1123, 100, 509],\n [170, 648, 1370],\n [58, 52, 148, 1371, 968],\n [423, 157, 126, 157, 1372],\n [1131, 681, 317, 681],\n [11, 482, 149, 150],\n [1373, 388, 316],\n [160, 137, 68],\n [1374, 1375],\n [324, 591],\n [759, 496, 555],\n [1355, 1376, 886],\n [593, 1377, 921],\n [700, 223, 455, 796, 1378],\n [221, 222, 1379, 1380, 90],\n [1381, 362, 1382, 1383, 289],\n [363, 1384, 415],\n [1385, 1053, 990],\n [43, 1386],\n [1387],\n [1388, 1389, 1106, 117],\n [1390, 218],\n [1391, 199, 1392],\n [317, 333, 115, 1100],\n [162, 256, 918],\n [126, 192, 1393],\n [1394, 22, 827],\n [750, 1395, 1396],\n [1397, 472, 1211, 268],\n [767, 42, 1398, 472],\n [329, 117, 1399, 608],\n [86, 1400, 181, 1401],\n [203, 1402, 1083],\n [1171, 1403, 1404, 218, 222],\n [42, 127, 330, 128, 186],\n [91, 1405, 1406, 491, 1407],\n [1408, 58, 217],\n [110, 1409, 1410, 1411],\n [453, 178, 122],\n [91, 1248, 115, 1412, 1413],\n [150, 1078, 121, 517, 184],\n [402, 599, 1414],\n [223, 1415, 1416],\n [1417, 642],\n [126, 307],\n [314, 436, 145, 1418],\n [1419, 223, 517],\n [1420, 160, 1421, 157],\n [1256, 1422, 1423, 410],\n ...]"
     },
     "execution_count": 323,
     "metadata": {},
     "output_type": "execute_result"
    }
   ],
   "source": [
    "x_train_int"
   ],
   "metadata": {
    "collapsed": false,
    "ExecuteTime": {
     "end_time": "2023-09-01T17:16:50.011935900Z",
     "start_time": "2023-09-01T17:16:49.725195500Z"
    }
   },
   "id": "75d86e68a14f6c92"
  },
  {
   "cell_type": "code",
   "execution_count": 324,
   "outputs": [
    {
     "data": {
      "text/plain": "[[729, 1083, 979],\n [405, 1002, 0, 0],\n [0, 74, 0],\n [0, 547, 0, 127],\n [40, 113, 299, 1248],\n [226, 1090, 0],\n [353, 1081, 178],\n [453, 937, 181],\n [361, 362, 363, 30],\n [698, 1230, 148, 214, 0],\n [531, 0, 531],\n [0, 100, 125, 353],\n [1199, 268],\n [65, 0],\n [100, 0, 0],\n [1144, 572, 1132],\n [222, 376, 482, 48],\n [54, 860],\n [292, 107],\n [1424, 1111, 1685],\n [13, 317, 899],\n [56],\n [830, 0, 566, 0],\n [304, 0, 276, 89],\n [729, 1083, 979],\n [99, 126, 215, 360],\n [457, 55, 314, 1143],\n [41, 25, 1344, 0, 481],\n [0, 490, 1111, 1685],\n [1703, 556],\n [11, 0, 1618],\n [1535, 64, 0],\n [0],\n [113, 700, 556, 0],\n [376, 1556, 372, 160, 1749, 26],\n [344, 0, 0, 517, 529],\n [56, 385, 64],\n [1188, 597, 150],\n [788, 100, 571, 115, 689],\n [1227, 85, 0, 1215],\n [367, 906],\n [327, 223, 0, 1349, 0, 1068],\n [91, 141, 567, 186],\n [1201, 79, 915, 1051],\n [0, 0, 0, 0],\n [0, 653, 121],\n [0],\n [316, 316],\n [223, 0, 199],\n [114, 324],\n [1691, 0],\n [681, 265, 963, 289],\n [436, 25],\n [1332, 648, 1709, 301],\n [0, 0, 560],\n [317, 314, 11],\n [25, 1090, 1091],\n [672, 0, 0, 0],\n [4, 481, 92, 44],\n [533, 1230],\n [388, 540, 389],\n [0, 91, 813],\n [725, 1093, 126, 0, 0],\n [566, 663, 490, 170],\n [140, 1387, 31],\n [0, 398, 0, 676, 200],\n [26, 181, 793],\n [1543, 1544, 362],\n [0],\n [745, 79, 828, 353],\n [768, 899, 0],\n [698, 0, 698, 1182],\n [987, 364],\n [1073],\n [812, 397, 450, 41, 91, 0],\n [455, 289, 689, 648, 0],\n [129, 107, 129],\n [160],\n [1625, 1668, 1804],\n [573, 214, 164, 0],\n [92, 1395, 0, 0],\n [0, 1001],\n [1556, 141, 0],\n [0, 223, 90],\n [91, 0, 1188, 252, 500],\n [0, 0, 0],\n [69, 25, 722, 0, 0],\n [1099, 659, 0],\n [126, 415, 198, 42],\n [79, 79, 648, 1412, 827],\n [0, 1448],\n [92, 901],\n [1703, 0],\n [0, 450, 79, 0, 289],\n [0, 0, 115],\n [115, 0, 1316],\n [1133, 1398],\n [0, 322, 148, 322, 1152, 801],\n [772, 0, 581],\n [258, 259, 260],\n [0, 0],\n [141, 58, 0, 178],\n [99, 64, 517],\n [69, 0, 1379],\n [69, 246],\n [226, 432, 0, 432, 0],\n [79, 1020, 1010, 455, 432],\n [986, 941, 942, 380],\n [1123, 0, 0, 560],\n [0, 0, 929, 181],\n [1703, 385, 0, 1100],\n [298, 139, 0],\n [110, 305, 100, 1562],\n [116, 0],\n [593, 652, 580, 298],\n [318, 475],\n [1369, 4, 1311, 289],\n [151, 759, 1275],\n [11, 653, 408],\n [199, 353],\n [64, 276, 1766, 729],\n [0, 431, 1311, 214],\n [162, 834, 0, 0],\n [949, 0, 0, 899],\n [1763, 465],\n [0, 408, 373, 0],\n [0, 831, 126],\n [0],\n [1316, 509, 286, 1395],\n [604, 465, 0],\n [0, 69, 1006, 0],\n [1053],\n [129],\n [1094, 1094, 325, 591],\n [40, 41, 137, 450],\n [102, 4, 1325, 214],\n [71, 72, 4, 1670],\n [25, 0, 0],\n [385, 469, 0],\n [846, 847],\n [157, 195, 196],\n [439, 492, 0, 378],\n [181, 792, 793],\n [1006, 693, 69],\n [0, 9, 69, 0],\n [58, 754, 0],\n [92, 257, 0],\n [127, 150, 128, 0],\n [419, 140, 368],\n [509, 612, 956],\n [1112, 517, 0, 0],\n [1306, 0, 0, 353],\n [0],\n [104, 141, 0, 0, 271, 69, 140],\n [493, 200, 598],\n [323, 0],\n [0, 193, 651, 274, 0, 648],\n [276, 992, 268],\n [806, 1197, 1197, 860],\n [1539, 199, 0],\n [98, 1398],\n [374, 0, 0, 509],\n [199, 0, 327, 0, 0],\n [25, 972],\n [11, 122, 67],\n [867, 722, 0, 0],\n [0, 0, 886],\n [435, 1080, 4, 314],\n [41, 1182, 1260, 1220],\n [644, 1004, 1481],\n [91, 0, 162],\n [269, 492],\n [0, 193, 194, 143],\n [0, 177, 560],\n [665, 666],\n [348, 673, 340, 213],\n [31, 377, 385],\n [568, 31, 1138],\n [1318, 0, 0, 899],\n [0, 860, 495],\n [419, 491, 689, 807],\n [880, 63, 160, 39],\n [0, 247, 0, 234],\n [31, 681],\n [1644, 116, 287],\n [11, 815, 131],\n [71, 450, 0],\n [0, 0, 0, 241],\n [0, 482, 514, 1694],\n [116, 535, 0, 1207],\n [181, 792, 793],\n [58, 133, 1628, 0],\n [393, 1116, 259, 0],\n [267, 1688],\n [308, 966, 0, 11],\n [651, 1480, 822, 1481],\n [0, 69],\n [867, 591, 274, 1583],\n [178, 1235, 1594, 0],\n [0, 223, 200],\n [116, 307, 336],\n [311, 364, 0, 223, 58, 126, 92],\n [560, 0, 1511],\n [140, 69, 593],\n [170, 648, 1370],\n [31],\n [0, 419, 223, 586, 587],\n [11, 0, 1068, 64],\n [91, 207, 140, 0],\n [0, 0, 0, 0],\n [565, 1641, 52],\n [31, 988, 26, 0],\n [0, 0],\n [223, 0, 0, 0],\n [458, 672],\n [528],\n [0, 988, 673],\n [830, 0, 566, 0],\n [1269, 265, 401, 1231],\n [272, 42, 0, 314, 0],\n [323, 4, 317, 364],\n [496, 518, 0, 0],\n [834, 935, 192, 936],\n [79, 1020, 79, 1083],\n [923, 0],\n [1669, 432, 455, 1622],\n [25, 0, 864, 92],\n [521, 0, 0, 0],\n [25, 1143, 27],\n [648, 475, 914, 177],\n [11, 1556, 528, 131],\n [300, 1137],\n [102, 0, 1099],\n [25, 868],\n [41, 178, 198, 114],\n [0, 64, 672],\n [397, 54, 140, 0, 0],\n [68, 0, 207, 0],\n [0, 1788],\n [826, 0, 0],\n [82, 0, 122],\n [84, 0, 0, 0],\n [1379, 0],\n [25],\n [1417, 226],\n [563, 419, 8],\n [79, 828, 828, 364, 0, 113],\n [901],\n [63, 267, 0, 658, 238],\n [308, 465, 1485, 0],\n [0],\n [143],\n [82, 82],\n [0, 0, 302, 0],\n [214, 499, 91, 241],\n [0],\n [0, 286, 79, 0],\n [1625, 170, 137, 110],\n [84, 1073],\n [1306, 0],\n [0, 0, 192],\n [232, 326, 327],\n [599, 170],\n [820],\n [948, 0, 0, 916],\n [1143, 293, 1348],\n [221, 68, 653, 450],\n [1377, 429, 84],\n [681, 0, 170, 773, 0],\n [0, 495, 0, 122],\n [1598, 1599],\n [578, 324],\n [0, 840],\n [199, 67, 0],\n [307, 368, 889, 1674],\n [630, 0, 1027, 1788],\n [831, 1109, 1381],\n [877, 1664],\n [0, 0, 866],\n [122],\n [99, 0, 0, 170],\n [69, 201, 119, 0],\n [139, 223, 560, 1262, 0],\n [0],\n [157, 157, 268],\n [1436],\n [104, 175, 662, 41],\n [529, 0],\n [0, 0],\n [1439, 267, 1440, 1441],\n [0, 490, 1111],\n [0, 839, 59, 69],\n [140, 419, 0],\n [308, 826, 218, 286, 1457],\n [27, 373, 11],\n [178, 700, 162],\n [102, 4, 1525, 1288, 214],\n [92, 116, 214],\n [125, 192, 64, 256, 1344],\n [377, 378, 379, 380],\n [58, 121, 837, 0, 1044],\n [1473, 1419],\n [1474, 0, 1390],\n [0, 126, 0, 0],\n [1613, 98, 210],\n [115, 54, 186, 402, 450, 186],\n [333, 820, 516],\n [141, 517],\n [0, 323, 160],\n [0, 146, 221, 0],\n [446, 1362, 0],\n [0, 0, 0],\n [273, 31, 170],\n [482, 0, 0],\n [42, 141, 661, 450],\n [1306, 11, 1695, 0],\n [98, 65],\n [398, 231, 453],\n [1584, 0, 0],\n [645, 336],\n [986, 198, 114],\n [673, 1466, 82],\n [419, 317, 1260, 1220],\n [0, 524, 700, 31],\n [316, 0, 1431],\n [432, 0, 79, 0],\n [39, 178, 113],\n [1685, 0],\n [517, 0, 274, 0],\n [223, 158, 161, 126, 505],\n [560, 0],\n [425, 426, 796],\n [11, 951, 157, 517, 0],\n [918, 0, 496],\n [183, 0, 0],\n [69, 0, 0],\n [0, 56],\n [43, 1146, 849],\n [62, 0, 1460, 436],\n [107, 972, 813, 653, 1215],\n [0, 0, 0, 1027, 630],\n [0, 316, 0, 1095],\n [0],\n [1439, 267, 1440, 1441],\n [0, 155, 0],\n [223, 91, 207],\n [0, 314, 1143],\n [43, 0, 0],\n [826, 113, 142],\n [820, 599, 0],\n [1251, 1252, 186],\n [0, 623, 231],\n [1672, 1673, 455],\n [15, 475, 1215, 653],\n [0, 267],\n [1322, 0, 0],\n [253, 783, 85, 373],\n [0, 0, 126, 0],\n [0, 143, 113],\n [0, 286, 269, 0],\n [1355, 1376, 886],\n [641, 1005, 383],\n [948, 600],\n [388, 359],\n [698, 1230, 148, 214, 0],\n [56, 353],\n [278, 213],\n [0, 586, 835, 77],\n [40, 238, 68, 82, 209],\n [0, 0, 0],\n [288, 122, 223, 1466],\n [0, 100, 656, 91, 0],\n [1551, 58, 465, 100, 376],\n [0, 166, 1556],\n [0, 397, 0],\n [0, 126, 640],\n [85, 1695, 0, 783],\n [1394, 22, 827],\n [41, 64, 1073, 796],\n [0, 0, 0, 315],\n [223, 501, 0, 691],\n [1392, 42, 0, 0],\n [978, 450, 508],\n [101, 681, 0, 681],\n [648, 141, 915],\n [64, 56, 324, 1805],\n [48, 320, 0],\n [583],\n [226, 1069, 289],\n [90, 851, 343],\n [0, 593, 0],\n [0, 400],\n [25, 0, 203],\n [826, 1796, 223],\n [0, 1037, 1166, 1784],\n [1135, 43, 364, 350, 1168],\n [1287],\n [117, 0],\n [41, 25, 67, 25],\n [748, 749, 750],\n [305, 221, 0],\n [1191, 0, 274],\n [0, 126, 890, 985, 1780],\n [937, 0, 937, 0],\n [160, 1108, 116, 221, 371],\n [146, 378, 379, 380],\n [13, 14, 12, 15],\n [850, 890, 429, 1080],\n [988, 0, 874],\n [157, 1101],\n [100, 688, 1171, 101, 25, 4],\n [915],\n [101, 125, 0, 0],\n [0, 495, 69],\n [107, 157, 157, 268],\n [0, 79, 0],\n [561, 432, 43, 562],\n [825, 1006, 265, 368],\n [1189, 0, 1171],\n [1395, 820, 821, 222],\n [54, 0],\n [1083, 600, 926],\n [101, 183, 1193],\n [1318, 408],\n [374, 0],\n [0, 79, 0],\n [69, 895, 1309],\n [1096, 413, 410],\n [1116, 0],\n [113, 772],\n [0, 0, 0, 556],\n [0, 137, 91, 376],\n [469, 0, 25, 1002],\n [0, 79, 0, 272, 1094],\n [27, 947, 1189],\n [469, 831, 288, 0],\n [1738, 410, 0],\n [465, 0],\n [0, 495, 169, 63],\n [126, 156, 157],\n [0, 214, 0, 0, 388],\n [0, 64, 154, 1380],\n [69, 31, 681],\n [20, 21, 22, 428],\n [0, 0, 679],\n [0, 860, 1131],\n [0, 164, 1548],\n [102, 0, 517, 774],\n [594, 1017, 389],\n [1665, 1666],\n [126, 0, 314, 325],\n [0, 0, 52],\n [91, 166],\n [1583, 733, 0, 0],\n [1798, 679],\n [399, 0],\n [238, 432, 268, 132],\n [0, 341, 726],\n [0, 0],\n [535, 1650],\n [499, 267, 0],\n [116, 56, 353, 72, 353],\n [497, 1083],\n [1158, 0, 0],\n [25, 126, 1782, 0],\n [0, 0],\n [226, 0, 1090, 0],\n [1, 2, 3, 4, 5],\n [0, 0, 200, 880],\n [271, 157, 268],\n [1291, 249],\n [11, 91, 843, 0],\n [843, 663, 888, 0, 150],\n [0],\n [322, 528, 0],\n [429, 314, 73],\n [419, 353],\n [203, 626],\n [0, 280, 0],\n [197, 41, 1263],\n [238, 700, 31],\n [0, 100, 265, 0],\n [899],\n [109, 429, 186],\n [1306, 378],\n [45, 157],\n [1184, 0],\n [25, 299, 31, 712],\n [0, 636],\n [200, 102, 1010, 0],\n [0, 0, 304],\n [123],\n [0, 104, 1100],\n [2, 143, 126, 104, 42],\n [1440, 289, 69, 324],\n [0, 678],\n [119, 385, 0, 150],\n [663, 432, 0, 56],\n [0, 0, 689],\n [1100],\n [1569, 0, 0],\n [1658, 614],\n [1622, 1623, 1624],\n [82, 199, 55],\n [385, 207, 1052, 0],\n [126, 1311, 0, 1227],\n [69, 1054, 1055],\n [126, 1438, 137],\n [1805, 64, 58, 119, 31],\n [27, 0, 1779],\n [69, 91, 583, 0],\n [840, 863],\n [864, 0, 0],\n [425, 822, 796],\n [395, 267, 69, 102, 0],\n [640, 929, 435],\n [218, 0, 121],\n [804],\n [64, 223, 368],\n [1695, 414, 135],\n [4, 3, 84],\n [438],\n [767, 42, 141],\n [64, 846, 413, 0, 0],\n [593, 192],\n [89, 594],\n [374, 1042, 138, 986],\n [69, 56],\n [522, 496, 1522, 1189],\n [0],\n [658, 409, 689, 157],\n [419, 223, 1100, 353],\n [148, 265, 0],\n [92, 26, 1002, 0],\n [1098, 507, 783],\n [224, 0, 0],\n [265, 0, 895],\n [126, 157, 314],\n [585, 0, 0],\n [1058, 1059, 269, 689],\n [98, 1171, 224],\n [507, 0, 648],\n [129],\n [64, 224, 109, 192],\n [337, 1076, 125, 48],\n [64, 102, 450, 0],\n [91, 997, 355, 161, 12],\n [101, 325],\n [385, 183, 181, 1401, 0],\n [0, 910, 0, 0],\n [69, 42],\n [0, 0, 223, 0, 0],\n [126, 535, 175],\n [126, 0, 1223],\n [140, 813, 0, 0],\n [0, 529, 0, 115, 444],\n [0, 359, 0],\n [500, 0],\n [1456, 4, 218, 1701],\n [102, 299, 4],\n [146, 0],\n [65, 0, 69],\n [67, 100, 140, 0, 170],\n [1010, 4, 1670],\n [0, 462],\n [988, 0, 0, 0],\n [0, 796, 0],\n [4, 115, 1031, 3, 84],\n [564, 0, 511, 0],\n [419, 453, 681],\n [278, 25],\n [4, 419, 672],\n [376, 377, 141],\n [91, 58, 334, 742, 0],\n [0, 0],\n [648, 475, 914, 177],\n [308, 173, 0, 0],\n [110, 110, 0, 0],\n [39, 419, 0, 25, 509, 84],\n [92, 0, 0],\n [192, 495, 11, 0, 1210],\n [5, 0, 1767],\n [0, 0, 811],\n [796, 633, 0, 302],\n [964, 0, 116],\n [388, 540],\n [40, 353, 64],\n [302, 198, 64],\n [1318, 0, 0, 1453],\n [0, 547, 758],\n [272],\n [157, 157, 268],\n [1685, 1416, 111],\n [322, 413, 378, 206],\n [751, 752, 753],\n [568, 91, 148, 809],\n [1602, 989, 1473, 1340],\n [344, 1548, 0, 0],\n [129, 129, 129],\n [1082, 0, 0, 15],\n [0],\n [0, 700],\n [1287],\n [274, 0, 0],\n [369, 0, 0],\n [1090],\n [419, 0, 556],\n [0, 143, 978, 0],\n [0, 468],\n [1106, 1262, 454, 157],\n [0, 146],\n [0, 0, 41, 25],\n [160, 600, 529],\n [1066, 796, 1083, 497],\n [1497],\n [934, 274, 415, 529, 1466],\n [0, 0, 302, 0],\n [58, 192, 595],\n [25, 56, 364],\n [223, 0],\n [141, 0],\n [104, 291, 353],\n [767, 222, 476],\n [781, 378, 0, 0, 556],\n [82, 404, 1744],\n [1214],\n [1093, 828, 783, 0],\n [271, 157],\n [0, 0, 43, 599, 0],\n [1126, 192, 0, 0, 0],\n [122, 193, 194],\n [84, 85, 86, 87],\n [0, 0],\n [1703],\n [1600, 0],\n [116, 535, 0, 1207],\n [92, 241, 0, 0],\n [0, 0, 0],\n [0, 889],\n [1377, 1287]]"
     },
     "execution_count": 324,
     "metadata": {},
     "output_type": "execute_result"
    }
   ],
   "source": [
    "x_test_int"
   ],
   "metadata": {
    "collapsed": false,
    "ExecuteTime": {
     "end_time": "2023-09-01T17:16:50.239084800Z",
     "start_time": "2023-09-01T17:16:49.784037100Z"
    }
   },
   "id": "6813cdb30ee05a27"
  },
  {
   "cell_type": "markdown",
   "source": [
    "# Initializing A and PI Metrics For Both Classes"
   ],
   "metadata": {
    "collapsed": false
   },
   "id": "1036400622761645"
  },
  {
   "cell_type": "code",
   "execution_count": 325,
   "outputs": [],
   "source": [
    "V = len(word2idx)\n",
    "\n",
    "A0 = np.ones((V, V))\n",
    "PI0 = np.ones(V)\n",
    "\n",
    "A1 = np.ones((V, V))\n",
    "PI1 = np.ones(V)"
   ],
   "metadata": {
    "collapsed": false,
    "ExecuteTime": {
     "end_time": "2023-09-01T17:16:50.270999300Z",
     "start_time": "2023-09-01T17:16:49.828885900Z"
    }
   },
   "id": "6032b096ebf38db"
  },
  {
   "cell_type": "markdown",
   "source": [
    "# Compute Counts For A and PI"
   ],
   "metadata": {
    "collapsed": false
   },
   "id": "7356a89bf3fad808"
  },
  {
   "cell_type": "code",
   "execution_count": 326,
   "outputs": [],
   "source": [
    "def compute_counts (text_as_int, A, PI):\n",
    "    for tokens in text_as_int:\n",
    "        last_idx = None\n",
    "        for idx in tokens:\n",
    "            if last_idx is None:\n",
    "                # it's the first word in the sentence\n",
    "                PI[idx] += 1\n",
    "            else:\n",
    "                # The last word exist, so count a transition\n",
    "                A[last_idx, idx] += 1\n",
    "            \n",
    "            # Update idx\n",
    "            last_idx = idx\n",
    "\n",
    "\n",
    "compute_counts([t for t, y in zip(x_train_int, y_train) if y == 0], A0, PI0)\n",
    "compute_counts([t for t, y in zip(x_train_int, y_train) if y == 1], A1, PI1)"
   ],
   "metadata": {
    "collapsed": false,
    "ExecuteTime": {
     "end_time": "2023-09-01T17:16:50.283403Z",
     "start_time": "2023-09-01T17:16:49.853792100Z"
    }
   },
   "id": "10aa32878370179c"
  },
  {
   "cell_type": "code",
   "execution_count": 327,
   "outputs": [
    {
     "data": {
      "text/plain": "array([1., 1., 2., ..., 1., 1., 2.])"
     },
     "execution_count": 327,
     "metadata": {},
     "output_type": "execute_result"
    }
   ],
   "source": [
    "PI1"
   ],
   "metadata": {
    "collapsed": false,
    "ExecuteTime": {
     "end_time": "2023-09-01T17:16:50.293896200Z",
     "start_time": "2023-09-01T17:16:49.863534400Z"
    }
   },
   "id": "8e4b1a217b603cfe"
  },
  {
   "cell_type": "code",
   "execution_count": 328,
   "outputs": [
    {
     "data": {
      "text/plain": "array([[1., 1., 1., ..., 1., 1., 1.],\n       [1., 1., 1., ..., 1., 1., 1.],\n       [1., 1., 1., ..., 1., 1., 1.],\n       ...,\n       [1., 1., 1., ..., 1., 1., 1.],\n       [1., 1., 1., ..., 1., 1., 1.],\n       [1., 1., 1., ..., 1., 1., 1.]])"
     },
     "execution_count": 328,
     "metadata": {},
     "output_type": "execute_result"
    }
   ],
   "source": [
    "A1"
   ],
   "metadata": {
    "collapsed": false,
    "ExecuteTime": {
     "end_time": "2023-09-01T17:16:50.340080900Z",
     "start_time": "2023-09-01T17:16:49.870515900Z"
    }
   },
   "id": "fdcc34b4f527e9ff"
  },
  {
   "cell_type": "code",
   "execution_count": 329,
   "outputs": [
    {
     "name": "stdout",
     "output_type": "stream",
     "text": [
      "Value 1.0 occurs 3262949 times.\n",
      "Value 2.0 occurs 2220 times.\n",
      "Value 3.0 occurs 68 times.\n",
      "Value 4.0 occurs 10 times.\n",
      "Value 6.0 occurs 1 times.\n",
      "Value 7.0 occurs 1 times.\n"
     ]
    }
   ],
   "source": [
    "# Get the unique values and their counts\n",
    "unique_values, counts = np.unique(A1, return_counts=True)\n",
    "\n",
    "# Combine the unique values and their counts into a dictionary\n",
    "value_count_dict = dict(zip(unique_values, counts))\n",
    "\n",
    "# Print the value counts\n",
    "for value, count in value_count_dict.items():\n",
    "    print(f\"Value {value} occurs {count} times.\")"
   ],
   "metadata": {
    "collapsed": false,
    "ExecuteTime": {
     "end_time": "2023-09-01T17:16:50.434656900Z",
     "start_time": "2023-09-01T17:16:49.883499100Z"
    }
   },
   "id": "894e5c0301242282"
  },
  {
   "cell_type": "markdown",
   "source": [
    "# Normalize A and PI so They Are Valid Probability Matrices"
   ],
   "metadata": {
    "collapsed": false
   },
   "id": "9c907e505bbf3885"
  },
  {
   "cell_type": "code",
   "execution_count": 330,
   "outputs": [],
   "source": [
    "A0 /= A0.sum(axis=1, keepdims=True)\n",
    "PI0 /= PI0.sum()\n",
    "\n",
    "A1 /= A1.sum(axis=1, keepdims=True)\n",
    "PI1 /= PI1.sum()"
   ],
   "metadata": {
    "collapsed": false,
    "ExecuteTime": {
     "end_time": "2023-09-01T17:16:50.519435400Z",
     "start_time": "2023-09-01T17:16:50.008973900Z"
    }
   },
   "id": "20223da5c98e7a87"
  },
  {
   "cell_type": "code",
   "execution_count": 331,
   "outputs": [
    {
     "data": {
      "text/plain": "array([[0.0005534, 0.0005534, 0.0005534, ..., 0.0005534, 0.0005534,\n        0.0005534],\n       [0.0005534, 0.0005534, 0.0005534, ..., 0.0005534, 0.0005534,\n        0.0005534],\n       [0.0005531, 0.0005531, 0.0005531, ..., 0.0005531, 0.0005531,\n        0.0005531],\n       ...,\n       [0.0005534, 0.0005534, 0.0005534, ..., 0.0005534, 0.0005534,\n        0.0005534],\n       [0.0005534, 0.0005534, 0.0005534, ..., 0.0005534, 0.0005534,\n        0.0005534],\n       [0.0005531, 0.0005531, 0.0005531, ..., 0.0005531, 0.0005531,\n        0.0005531]])"
     },
     "execution_count": 331,
     "metadata": {},
     "output_type": "execute_result"
    }
   ],
   "source": [
    "A1"
   ],
   "metadata": {
    "collapsed": false,
    "ExecuteTime": {
     "end_time": "2023-09-01T17:16:50.520430500Z",
     "start_time": "2023-09-01T17:16:50.042907700Z"
    }
   },
   "id": "aba855882540de80"
  },
  {
   "cell_type": "code",
   "execution_count": 332,
   "outputs": [
    {
     "data": {
      "text/plain": "array([0.00035499, 0.00035499, 0.00070998, ..., 0.00035499, 0.00035499,\n       0.00070998])"
     },
     "execution_count": 332,
     "metadata": {},
     "output_type": "execute_result"
    }
   ],
   "source": [
    "PI1"
   ],
   "metadata": {
    "collapsed": false,
    "ExecuteTime": {
     "end_time": "2023-09-01T17:16:50.520430500Z",
     "start_time": "2023-09-01T17:16:50.048402600Z"
    }
   },
   "id": "5c4524e9310543c6"
  },
  {
   "cell_type": "code",
   "execution_count": 333,
   "outputs": [
    {
     "name": "stdout",
     "output_type": "stream",
     "text": [
      "Value 0.0005399568034557236 occurs 1767 times.\n",
      "Value 0.0005428881650380022 occurs 1772 times.\n",
      "Value 0.000544069640914037 occurs 3560 times.\n",
      "Value 0.0005446623093681918 occurs 1780 times.\n",
      "Value 0.0005452562704471102 occurs 5352 times.\n",
      "Value 0.000546448087431694 occurs 1786 times.\n",
      "Value 0.0005467468562055768 occurs 3571 times.\n",
      "Value 0.0005482456140350877 occurs 7167 times.\n",
      "Value 0.0005485463521667581 occurs 5376 times.\n",
      "Value 0.0005488474204171241 occurs 1795 times.\n",
      "Value 0.0005494505494505495 occurs 8975 times.\n",
      "Value 0.0005497526113249038 occurs 8978 times.\n",
      "Value 0.00055005500550055 occurs 5389 times.\n",
      "Value 0.000550357732526142 occurs 10788 times.\n",
      "Value 0.0005506607929515419 occurs 10790 times.\n",
      "Value 0.0005509641873278236 occurs 14396 times.\n",
      "Value 0.0005512679162072767 occurs 21600 times.\n",
      "Value 0.0005515719801434088 occurs 34233 times.\n",
      "Value 0.0005518763796909492 occurs 41449 times.\n",
      "Value 0.0005521811154058532 occurs 75734 times.\n",
      "Value 0.0005524861878453039 occurs 146128 times.\n",
      "Value 0.000552791597567717 occurs 250899 times.\n",
      "Value 0.0005530973451327434 occurs 1099854 times.\n",
      "Value 0.0005534034311012728 occurs 1499810 times.\n",
      "Value 0.0010799136069114472 occurs 35 times.\n",
      "Value 0.0010857763300760044 occurs 35 times.\n",
      "Value 0.001088139281828074 occurs 47 times.\n",
      "Value 0.0010893246187363835 occurs 26 times.\n",
      "Value 0.0010905125408942203 occurs 61 times.\n",
      "Value 0.001092896174863388 occurs 19 times.\n",
      "Value 0.0010934937124111536 occurs 42 times.\n",
      "Value 0.0010964912280701754 occurs 56 times.\n",
      "Value 0.0010970927043335162 occurs 42 times.\n",
      "Value 0.0010976948408342481 occurs 10 times.\n",
      "Value 0.001098901098901099 occurs 55 times.\n",
      "Value 0.0010995052226498076 occurs 54 times.\n",
      "Value 0.0011001100110011 occurs 31 times.\n",
      "Value 0.001100715465052284 occurs 49 times.\n",
      "Value 0.0011013215859030838 occurs 50 times.\n",
      "Value 0.0011019283746556473 occurs 56 times.\n",
      "Value 0.0011025358324145535 occurs 84 times.\n",
      "Value 0.0011031439602868175 occurs 92 times.\n",
      "Value 0.0011037527593818985 occurs 109 times.\n",
      "Value 0.0011043622308117063 occurs 152 times.\n",
      "Value 0.0011049723756906078 occurs 236 times.\n",
      "Value 0.001105583195135434 occurs 270 times.\n",
      "Value 0.0011061946902654867 occurs 609 times.\n",
      "Value 0.0016198704103671706 occurs 5 times.\n",
      "Value 0.001632208922742111 occurs 6 times.\n",
      "Value 0.0016357688113413304 occurs 6 times.\n",
      "Value 0.001639344262295082 occurs 2 times.\n",
      "Value 0.0016402405686167304 occurs 1 times.\n",
      "Value 0.001644736842105263 occurs 3 times.\n",
      "Value 0.0016456390565002743 occurs 3 times.\n",
      "Value 0.001646542261251372 occurs 1 times.\n",
      "Value 0.0016483516483516484 occurs 5 times.\n",
      "Value 0.0016492578339747114 occurs 3 times.\n",
      "Value 0.0016501650165016502 occurs 1 times.\n",
      "Value 0.001651073197578426 occurs 4 times.\n",
      "Value 0.0016519823788546256 occurs 2 times.\n",
      "Value 0.001652892561983471 occurs 4 times.\n",
      "Value 0.001654715940430226 occurs 5 times.\n",
      "Value 0.0016556291390728477 occurs 3 times.\n",
      "Value 0.0016565433462175593 occurs 8 times.\n",
      "Value 0.0016574585635359116 occurs 2 times.\n",
      "Value 0.001658374792703151 occurs 4 times.\n",
      "Value 0.002176278563656148 occurs 1 times.\n",
      "Value 0.002178649237472767 occurs 1 times.\n",
      "Value 0.0021810250817884407 occurs 1 times.\n",
      "Value 0.0021929824561403508 occurs 2 times.\n",
      "Value 0.0021953896816684962 occurs 1 times.\n",
      "Value 0.002201430930104568 occurs 1 times.\n",
      "Value 0.002206287920573635 occurs 2 times.\n",
      "Value 0.0022099447513812156 occurs 1 times.\n",
      "Value 0.003271537622682661 occurs 1 times.\n",
      "Value 0.003861003861003861 occurs 1 times.\n"
     ]
    }
   ],
   "source": [
    "# Get the unique values and their counts\n",
    "unique_values, counts = np.unique(A1, return_counts=True)\n",
    "\n",
    "# Combine the unique values and their counts into a dictionary\n",
    "value_count_dict = dict(zip(unique_values, counts))\n",
    "\n",
    "# Print the value counts\n",
    "for value, count in value_count_dict.items():\n",
    "    print(f\"Value {value} occurs {count} times.\")"
   ],
   "metadata": {
    "collapsed": false,
    "ExecuteTime": {
     "end_time": "2023-09-01T17:16:50.522453400Z",
     "start_time": "2023-09-01T17:16:50.059113Z"
    }
   },
   "id": "255ba8ac793bf5b8"
  },
  {
   "cell_type": "code",
   "execution_count": 334,
   "outputs": [],
   "source": [
    "# Log A and PI Since We Don't Need The Actual Probs\n",
    "logA0 = np.log(A0)\n",
    "logPI0 = np.log(PI0)\n",
    "\n",
    "logA1 = np.log(A1)\n",
    "logPI1 = np.log(PI1)"
   ],
   "metadata": {
    "collapsed": false,
    "ExecuteTime": {
     "end_time": "2023-09-01T17:16:50.664518100Z",
     "start_time": "2023-09-01T17:16:50.190692Z"
    }
   },
   "id": "a00d3d92950310e9"
  },
  {
   "cell_type": "markdown",
   "source": [
    "# Compute Priors"
   ],
   "metadata": {
    "collapsed": false
   },
   "id": "cf08ab91e42f3559"
  },
  {
   "cell_type": "code",
   "execution_count": 335,
   "outputs": [
    {
     "data": {
      "text/plain": "(0.3235097119892833, 0.6764902880107166)"
     },
     "execution_count": 335,
     "metadata": {},
     "output_type": "execute_result"
    }
   ],
   "source": [
    "count0 = sum(y == 0 for y in y_train)\n",
    "count1 = sum(y == 1 for y in y_train)\n",
    "total = len(y_train)\n",
    "p0 = count0 / total\n",
    "p1 = count1 / total\n",
    "logp0 = np.log(p0)\n",
    "logp1 = np.log(p1)\n",
    "\n",
    "p0, p1"
   ],
   "metadata": {
    "collapsed": false,
    "ExecuteTime": {
     "end_time": "2023-09-01T17:16:50.697401300Z",
     "start_time": "2023-09-01T17:16:50.282818400Z"
    }
   },
   "id": "f29d9ca72825bac5"
  },
  {
   "cell_type": "markdown",
   "source": [
    "# Build A Classifier"
   ],
   "metadata": {
    "collapsed": false
   },
   "id": "de148c92b291b183"
  },
  {
   "cell_type": "code",
   "execution_count": 336,
   "outputs": [],
   "source": [
    "class Classifier:\n",
    "    def __init__(self, logAs, logpis, logpriors):\n",
    "        self.logAs = logAs\n",
    "        self.logpis = logpis\n",
    "        self.logpriors = logpriors\n",
    "        self.K = len(logpriors) # number of classes\n",
    "    \n",
    "    def _compute_log_likelihood(self, input_, class_):\n",
    "        logA = self.logAs[class_]\n",
    "        logpi = self.logpis[class_]\n",
    "        \n",
    "        last_idx = None\n",
    "        logprob = 0\n",
    "        \n",
    "        for idx in input_:\n",
    "            if last_idx is None:\n",
    "                # it's the first token\n",
    "                logprob += logpi[idx]\n",
    "            else:\n",
    "                logprob += logA[last_idx, idx]\n",
    "            \n",
    "            #update last_idx\n",
    "            last_idx = idx\n",
    "        \n",
    "        return logprob\n",
    "    \n",
    "    def predict(self, inputs):\n",
    "        predictions = np.zeros(len(inputs))\n",
    "        \n",
    "        for i, input_ in enumerate(inputs):\n",
    "            posteriors = [self._compute_log_likelihood(input_, c) + self.logpriors[c]  for c in range(self.K)]\n",
    "            pred = np.argmax(posteriors)\n",
    "            predictions[i] = pred\n",
    "        \n",
    "        return predictions\n"
   ],
   "metadata": {
    "collapsed": false,
    "ExecuteTime": {
     "end_time": "2023-09-01T17:16:50.700395700Z",
     "start_time": "2023-09-01T17:16:50.288911700Z"
    }
   },
   "id": "25a89891c90a6c82"
  },
  {
   "cell_type": "code",
   "execution_count": 337,
   "outputs": [],
   "source": [
    "clf = Classifier([logA0, logA1], [logPI0, logPI1], [logp0, logp1])"
   ],
   "metadata": {
    "collapsed": false,
    "ExecuteTime": {
     "end_time": "2023-09-01T17:16:50.700395700Z",
     "start_time": "2023-09-01T17:16:50.303701400Z"
    }
   },
   "id": "47e9f10ee63db4bd"
  },
  {
   "cell_type": "code",
   "execution_count": 338,
   "outputs": [
    {
     "name": "stdout",
     "output_type": "stream",
     "text": [
      "Train acc: 0.9859343603482921\n"
     ]
    }
   ],
   "source": [
    "Ptrain = clf.predict(x_train_int)\n",
    "print(f'Train acc: {np.mean(Ptrain == y_train)}')"
   ],
   "metadata": {
    "collapsed": false,
    "ExecuteTime": {
     "end_time": "2023-09-01T17:16:50.721368400Z",
     "start_time": "2023-09-01T17:16:50.315250600Z"
    }
   },
   "id": "e09cf4d5d600af55"
  },
  {
   "cell_type": "code",
   "execution_count": 339,
   "outputs": [
    {
     "name": "stdout",
     "output_type": "stream",
     "text": [
      "Test acc: 0.7828125\n"
     ]
    }
   ],
   "source": [
    "Ptest = clf.predict(x_test_int)\n",
    "print(f'Test acc: {np.mean(Ptest == y_test)}')"
   ],
   "metadata": {
    "collapsed": false,
    "ExecuteTime": {
     "end_time": "2023-09-01T17:16:50.722393800Z",
     "start_time": "2023-09-01T17:16:50.344065300Z"
    }
   },
   "id": "8bdeac386c7f801"
  },
  {
   "cell_type": "code",
   "execution_count": 341,
   "outputs": [
    {
     "data": {
      "text/plain": "array([[ 462,   21],\n       [   0, 1010]], dtype=int64)"
     },
     "execution_count": 341,
     "metadata": {},
     "output_type": "execute_result"
    }
   ],
   "source": [
    "cm = confusion_matrix(y_train, Ptrain)\n",
    "\n",
    "cm"
   ],
   "metadata": {
    "collapsed": false,
    "ExecuteTime": {
     "end_time": "2023-09-01T17:18:56.845827500Z",
     "start_time": "2023-09-01T17:18:56.750004500Z"
    }
   },
   "id": "cb652112b2d24194"
  },
  {
   "cell_type": "code",
   "execution_count": 342,
   "outputs": [
    {
     "data": {
      "text/plain": "array([[109, 122],\n       [ 17, 392]], dtype=int64)"
     },
     "execution_count": 342,
     "metadata": {},
     "output_type": "execute_result"
    }
   ],
   "source": [
    "cm_test = confusion_matrix(y_test, Ptest)\n",
    "\n",
    "cm_test"
   ],
   "metadata": {
    "collapsed": false,
    "ExecuteTime": {
     "end_time": "2023-09-01T17:19:32.100237400Z",
     "start_time": "2023-09-01T17:19:32.019092300Z"
    }
   },
   "id": "969cc181e249b951"
  },
  {
   "cell_type": "code",
   "execution_count": 343,
   "outputs": [
    {
     "data": {
      "text/plain": "0.9897109260166584"
     },
     "execution_count": 343,
     "metadata": {},
     "output_type": "execute_result"
    }
   ],
   "source": [
    "f1_score(y_train, Ptrain)"
   ],
   "metadata": {
    "collapsed": false,
    "ExecuteTime": {
     "end_time": "2023-09-01T17:20:17.290906200Z",
     "start_time": "2023-09-01T17:20:17.147250300Z"
    }
   },
   "id": "3948e5a9995197af"
  },
  {
   "cell_type": "code",
   "execution_count": 344,
   "outputs": [
    {
     "data": {
      "text/plain": "0.8494041170097508"
     },
     "execution_count": 344,
     "metadata": {},
     "output_type": "execute_result"
    }
   ],
   "source": [
    "f1_score(y_test, Ptest)"
   ],
   "metadata": {
    "collapsed": false,
    "ExecuteTime": {
     "end_time": "2023-09-01T17:20:28.898877200Z",
     "start_time": "2023-09-01T17:20:28.813165800Z"
    }
   },
   "id": "43eebbc6916366c9"
  }
 ],
 "metadata": {
  "kernelspec": {
   "display_name": "Python 3",
   "language": "python",
   "name": "python3"
  },
  "language_info": {
   "codemirror_mode": {
    "name": "ipython",
    "version": 2
   },
   "file_extension": ".py",
   "mimetype": "text/x-python",
   "name": "python",
   "nbconvert_exporter": "python",
   "pygments_lexer": "ipython2",
   "version": "2.7.6"
  }
 },
 "nbformat": 4,
 "nbformat_minor": 5
}
